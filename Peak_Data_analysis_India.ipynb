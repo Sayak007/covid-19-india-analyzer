{
  "nbformat": 4,
  "nbformat_minor": 0,
  "metadata": {
    "colab": {
      "name": "Peak_Data_analysis_India",
      "provenance": [],
      "authorship_tag": "ABX9TyMAQcy1Hn3mwYdOvLfOwF1W",
      "include_colab_link": true
    },
    "kernelspec": {
      "name": "python3",
      "display_name": "Python 3"
    }
  },
  "cells": [
    {
      "cell_type": "markdown",
      "metadata": {
        "id": "view-in-github",
        "colab_type": "text"
      },
      "source": [
        "<a href=\"https://colab.research.google.com/github/Sayak007/Covid-19-Forecast-Model/blob/master/Peak_Data_analysis_India.ipynb\" target=\"_parent\"><img src=\"https://colab.research.google.com/assets/colab-badge.svg\" alt=\"Open In Colab\"/></a>"
      ]
    },
    {
      "cell_type": "code",
      "metadata": {
        "id": "7ochUdzyADGX",
        "colab_type": "code",
        "colab": {
          "base_uri": "https://localhost:8080/",
          "height": 70
        },
        "outputId": "859c0cf2-0778-4f04-9a0b-a379a853ca9a"
      },
      "source": [
        "import requests\n",
        "# to parse json contents\n",
        "import json\n",
        "# to parse csv files\n",
        "import csv\n",
        "\n",
        "# for numerical operations\n",
        "import numpy as np\n",
        "# to store and analysis data in dataframes\n",
        "import pandas as pd\n",
        "\n",
        "from dateutil.parser import parse \n",
        "import matplotlib as mpl\n",
        "import matplotlib.pyplot as plt\n",
        "import seaborn as sns\n",
        "from datetime import datetime\n",
        "from sklearn import preprocessing, svm\n",
        "## For stationarity test and decomposition\n",
        "import statsmodels.tsa.api as smt\n",
        "import statsmodels.api as sm"
      ],
      "execution_count": 1,
      "outputs": [
        {
          "output_type": "stream",
          "text": [
            "/usr/local/lib/python3.6/dist-packages/statsmodels/tools/_testing.py:19: FutureWarning: pandas.util.testing is deprecated. Use the functions in the public API at pandas.testing instead.\n",
            "  import pandas.util.testing as tm\n"
          ],
          "name": "stderr"
        }
      ]
    },
    {
      "cell_type": "code",
      "metadata": {
        "id": "Yq-0oJ7zAEHH",
        "colab_type": "code",
        "colab": {
          "base_uri": "https://localhost:8080/",
          "height": 225
        },
        "outputId": "41cef1b2-3059-4793-9d8f-7128597fb0c5"
      },
      "source": [
        "dateparse = lambda dates: datetime.strptime(str(dates)+\"2020\", '%d %B %Y')\n",
        "cov = pd.read_csv('https://api.covid19india.org/csv/latest/case_time_series.csv',parse_dates=['Date'],index_col=['Date'],date_parser=dateparse)\n",
        "cov.to_csv('nation_level_daily.csv')\n",
        "cov.tail()"
      ],
      "execution_count": 2,
      "outputs": [
        {
          "output_type": "execute_result",
          "data": {
            "text/html": [
              "<div>\n",
              "<style scoped>\n",
              "    .dataframe tbody tr th:only-of-type {\n",
              "        vertical-align: middle;\n",
              "    }\n",
              "\n",
              "    .dataframe tbody tr th {\n",
              "        vertical-align: top;\n",
              "    }\n",
              "\n",
              "    .dataframe thead th {\n",
              "        text-align: right;\n",
              "    }\n",
              "</style>\n",
              "<table border=\"1\" class=\"dataframe\">\n",
              "  <thead>\n",
              "    <tr style=\"text-align: right;\">\n",
              "      <th></th>\n",
              "      <th>Daily Confirmed</th>\n",
              "      <th>Total Confirmed</th>\n",
              "      <th>Daily Recovered</th>\n",
              "      <th>Total Recovered</th>\n",
              "      <th>Daily Deceased</th>\n",
              "      <th>Total Deceased</th>\n",
              "    </tr>\n",
              "    <tr>\n",
              "      <th>Date</th>\n",
              "      <th></th>\n",
              "      <th></th>\n",
              "      <th></th>\n",
              "      <th></th>\n",
              "      <th></th>\n",
              "      <th></th>\n",
              "    </tr>\n",
              "  </thead>\n",
              "  <tbody>\n",
              "    <tr>\n",
              "      <th>2020-06-17</th>\n",
              "      <td>13108</td>\n",
              "      <td>367269</td>\n",
              "      <td>6890</td>\n",
              "      <td>194440</td>\n",
              "      <td>341</td>\n",
              "      <td>12263</td>\n",
              "    </tr>\n",
              "    <tr>\n",
              "      <th>2020-06-18</th>\n",
              "      <td>13829</td>\n",
              "      <td>381098</td>\n",
              "      <td>10741</td>\n",
              "      <td>205181</td>\n",
              "      <td>343</td>\n",
              "      <td>12606</td>\n",
              "    </tr>\n",
              "    <tr>\n",
              "      <th>2020-06-19</th>\n",
              "      <td>14740</td>\n",
              "      <td>395838</td>\n",
              "      <td>9029</td>\n",
              "      <td>214210</td>\n",
              "      <td>364</td>\n",
              "      <td>12970</td>\n",
              "    </tr>\n",
              "    <tr>\n",
              "      <th>2020-06-20</th>\n",
              "      <td>15918</td>\n",
              "      <td>411753</td>\n",
              "      <td>13974</td>\n",
              "      <td>228184</td>\n",
              "      <td>308</td>\n",
              "      <td>13278</td>\n",
              "    </tr>\n",
              "    <tr>\n",
              "      <th>2020-06-21</th>\n",
              "      <td>15158</td>\n",
              "      <td>426911</td>\n",
              "      <td>9069</td>\n",
              "      <td>237253</td>\n",
              "      <td>426</td>\n",
              "      <td>13704</td>\n",
              "    </tr>\n",
              "  </tbody>\n",
              "</table>\n",
              "</div>"
            ],
            "text/plain": [
              "            Daily Confirmed  Total Confirmed  ...  Daily Deceased  Total Deceased\n",
              "Date                                          ...                                \n",
              "2020-06-17            13108           367269  ...             341           12263\n",
              "2020-06-18            13829           381098  ...             343           12606\n",
              "2020-06-19            14740           395838  ...             364           12970\n",
              "2020-06-20            15918           411753  ...             308           13278\n",
              "2020-06-21            15158           426911  ...             426           13704\n",
              "\n",
              "[5 rows x 6 columns]"
            ]
          },
          "metadata": {
            "tags": []
          },
          "execution_count": 2
        }
      ]
    },
    {
      "cell_type": "code",
      "metadata": {
        "id": "KQ4cp72iAHAG",
        "colab_type": "code",
        "colab": {
          "base_uri": "https://localhost:8080/",
          "height": 225
        },
        "outputId": "cd9205b2-d86d-4cd7-daf6-316d55bc782e"
      },
      "source": [
        "cov2 = cov[['Total Confirmed', 'Daily Confirmed']].copy()\n",
        "#cov3=cov2.rename(columns={'total':'Total Confirmed','new':'Daily Confirmed'})\n",
        "cov2.tail()"
      ],
      "execution_count": 3,
      "outputs": [
        {
          "output_type": "execute_result",
          "data": {
            "text/html": [
              "<div>\n",
              "<style scoped>\n",
              "    .dataframe tbody tr th:only-of-type {\n",
              "        vertical-align: middle;\n",
              "    }\n",
              "\n",
              "    .dataframe tbody tr th {\n",
              "        vertical-align: top;\n",
              "    }\n",
              "\n",
              "    .dataframe thead th {\n",
              "        text-align: right;\n",
              "    }\n",
              "</style>\n",
              "<table border=\"1\" class=\"dataframe\">\n",
              "  <thead>\n",
              "    <tr style=\"text-align: right;\">\n",
              "      <th></th>\n",
              "      <th>Total Confirmed</th>\n",
              "      <th>Daily Confirmed</th>\n",
              "    </tr>\n",
              "    <tr>\n",
              "      <th>Date</th>\n",
              "      <th></th>\n",
              "      <th></th>\n",
              "    </tr>\n",
              "  </thead>\n",
              "  <tbody>\n",
              "    <tr>\n",
              "      <th>2020-06-17</th>\n",
              "      <td>367269</td>\n",
              "      <td>13108</td>\n",
              "    </tr>\n",
              "    <tr>\n",
              "      <th>2020-06-18</th>\n",
              "      <td>381098</td>\n",
              "      <td>13829</td>\n",
              "    </tr>\n",
              "    <tr>\n",
              "      <th>2020-06-19</th>\n",
              "      <td>395838</td>\n",
              "      <td>14740</td>\n",
              "    </tr>\n",
              "    <tr>\n",
              "      <th>2020-06-20</th>\n",
              "      <td>411753</td>\n",
              "      <td>15918</td>\n",
              "    </tr>\n",
              "    <tr>\n",
              "      <th>2020-06-21</th>\n",
              "      <td>426911</td>\n",
              "      <td>15158</td>\n",
              "    </tr>\n",
              "  </tbody>\n",
              "</table>\n",
              "</div>"
            ],
            "text/plain": [
              "            Total Confirmed  Daily Confirmed\n",
              "Date                                        \n",
              "2020-06-17           367269            13108\n",
              "2020-06-18           381098            13829\n",
              "2020-06-19           395838            14740\n",
              "2020-06-20           411753            15918\n",
              "2020-06-21           426911            15158"
            ]
          },
          "metadata": {
            "tags": []
          },
          "execution_count": 3
        }
      ]
    },
    {
      "cell_type": "code",
      "metadata": {
        "id": "_Aty0mQRAiS1",
        "colab_type": "code",
        "colab": {
          "base_uri": "https://localhost:8080/",
          "height": 320
        },
        "outputId": "1e8e59cd-d2f3-4327-a554-933946e96825"
      },
      "source": [
        "'''\n",
        "Linear function: f(x) = a + b*x\n",
        "'''\n",
        "def f(x):\n",
        "    return 10 + 2800*x\n",
        "\n",
        "y_linear = f(x=np.arange(len(cov2)))\n",
        "'''\n",
        "Exponential function: f(x) = a + b^x\n",
        "'''\n",
        "def f(x):\n",
        "    return 10 + 1.095**x\n",
        "\n",
        "y_exponential = f(x=np.arange(len(cov2)))\n",
        "'''\n",
        "Logistic function: f(x) = a / (1 + e^(-b*(x-c)))\n",
        "'''\n",
        "def f(x): \n",
        "    return 400000 / (1 + np.exp(-0.5*(x-20)))\n",
        "\n",
        "y_logistic = f(x=np.arange(len(cov2)))\n",
        "\n",
        "fig, ax = plt.subplots(figsize=(13,5))\n",
        "ax.scatter(cov2[\"Total Confirmed\"].index, cov2[\"Total Confirmed\"].values, color=\"black\")\n",
        "ax.plot(cov2[\"Total Confirmed\"].index, y_linear, label=\"linear\", color=\"red\")\n",
        "ax.plot(cov2[\"Total Confirmed\"].index, y_exponential, label=\"exponential\", color=\"green\")\n",
        "ax.plot(cov2[\"Total Confirmed\"].index, y_logistic, label=\"logistic\", color=\"blue\")\n",
        "ax.legend()\n",
        "plt.show()"
      ],
      "execution_count": 4,
      "outputs": [
        {
          "output_type": "display_data",
          "data": {
            "image/png": "[encoded data removed]",
            "text/plain": [
              "<Figure size 936x360 with 1 Axes>"
            ]
          },
          "metadata": {
            "tags": [],
            "needs_background": "light"
          }
        }
      ]
    },
    {
      "cell_type": "code",
      "metadata": {
        "id": "PLJTUxsbCOr0",
        "colab_type": "code",
        "colab": {
          "base_uri": "https://localhost:8080/",
          "height": 320
        },
        "outputId": "a440bc30-9e18-48dd-c8a2-6afab3fdac0b"
      },
      "source": [
        "'''\n",
        "Gaussian function: f(x) = a * e^(-0.5 * ((x-μ)/σ)**2)\n",
        "'''\n",
        "def f(x):\n",
        "    return 23000 * np.exp(-0.02 * ((x-150)/4)**2)\n",
        "\n",
        "y_gaussian = f(x=np.arange(len(cov2)))\n",
        "\n",
        "fig, ax = plt.subplots(figsize=(13,5))\n",
        "ax.bar(cov2[\"Daily Confirmed\"].index, cov2[\"Daily Confirmed\"].values, color=\"black\")\n",
        "ax.plot(cov2[\"Daily Confirmed\"].index, y_gaussian, color=\"red\")\n",
        "plt.show()"
      ],
      "execution_count": 5,
      "outputs": [
        {
          "output_type": "display_data",
          "data": {
            "image/png": "[encoded data removed]",
            "text/plain": [
              "<Figure size 936x360 with 1 Axes>"
            ]
          },
          "metadata": {
            "tags": [],
            "needs_background": "light"
          }
        }
      ]
    },
    {
      "cell_type": "code",
      "metadata": {
        "id": "AEboUufzCXTe",
        "colab_type": "code",
        "colab": {
          "base_uri": "https://localhost:8080/",
          "height": 34
        },
        "outputId": "990c7826-b93c-4e32-92aa-4b3386867bbc"
      },
      "source": [
        "'''\n",
        "Logistic function: f(x) = capacity / (1 + e^-k*(x - midpoint) )\n",
        "'''\n",
        "from scipy import optimize\n",
        "def logistic_f(X, c, k, m):\n",
        "    y = c / (1 + np.exp(-k*(X-m)))\n",
        "    return y\n",
        "## optimize from scipy\n",
        "logistic_model, cov = optimize.curve_fit(logistic_f,np.arange(len(cov2[\"Total Confirmed\"])),cov2[\"Total Confirmed\"].values, maxfev=10000,p0=[np.max(cov2[\"Total Confirmed\"]), 1, 1])\n",
        "## print the parameters\n",
        "logistic_model"
      ],
      "execution_count": 6,
      "outputs": [
        {
          "output_type": "execute_result",
          "data": {
            "text/plain": [
              "array([7.70148648e+05, 6.11792746e-02, 1.40246972e+02])"
            ]
          },
          "metadata": {
            "tags": []
          },
          "execution_count": 6
        }
      ]
    },
    {
      "cell_type": "code",
      "metadata": {
        "id": "0_0GHDQACfxd",
        "colab_type": "code",
        "colab": {
          "base_uri": "https://localhost:8080/",
          "height": 34
        },
        "outputId": "5816faf0-7e6e-42eb-d60d-dddb087b683d"
      },
      "source": [
        "'''\n",
        "Gaussian function: f(x) = a * e^(-0.5 * ((x-μ)/σ)**2)\n",
        "'''\n",
        "def gaussian_f(X, a, b, c):\n",
        "    y = a * np.exp(-0.5 * ((X-b)/c)**2)\n",
        "    return y\n",
        "## optimize from scipy\n",
        "gaussian_model, cov = optimize.curve_fit(gaussian_f,np.arange(len(cov2[\"Daily Confirmed\"])), cov2[\"Daily Confirmed\"].values, maxfev=10000,p0=[1, np.mean(cov2[\"Daily Confirmed\"]), np.std(cov2[\"Daily Confirmed\"])])\n",
        "## print the parameters\n",
        "gaussian_model"
      ],
      "execution_count": 7,
      "outputs": [
        {
          "output_type": "execute_result",
          "data": {
            "text/plain": [
              "array([22601.82885084,   184.39588789,    43.63552041])"
            ]
          },
          "metadata": {
            "tags": []
          },
          "execution_count": 7
        }
      ]
    },
    {
      "cell_type": "code",
      "metadata": {
        "id": "I9N9B5tGXliH",
        "colab_type": "code",
        "colab": {}
      },
      "source": [
        "'''\n",
        "Plot parametric fitting.\n",
        "'''\n",
        "def utils_plot_parametric(dtf, zoom=30, figsize=(15,5)):\n",
        "    ## interval\n",
        "    dtf[\"residuals\"] = dtf[\"ts\"] - dtf[\"model\"]\n",
        "    dtf[\"conf_int_low\"] = dtf[\"forecast\"] - 1.96*dtf[\"residuals\"].std()\n",
        "    dtf[\"conf_int_up\"] = dtf[\"forecast\"] + 1.96*dtf[\"residuals\"].std()\n",
        "    fig, ax = plt.subplots(nrows=1, ncols=2, figsize=figsize)\n",
        "    \n",
        "    ## entire series\n",
        "    dtf[\"ts\"].plot(marker=\".\", linestyle='None', ax=ax[0], title=\"Parametric Fitting\", color=\"black\")\n",
        "    dtf[\"model\"].plot(ax=ax[0], color=\"green\")\n",
        "    dtf[\"forecast\"].plot(ax=ax[0], grid=True, color=\"red\")\n",
        "    ax[0].fill_between(x=dtf.index, y1=dtf['conf_int_low'], y2=dtf['conf_int_up'], color='b', alpha=0.3)\n",
        "   \n",
        "    ## focus on last\n",
        "    first_idx = dtf[pd.notnull(dtf[\"forecast\"])].index[0]\n",
        "    first_loc = dtf.index.tolist().index(first_idx)\n",
        "    zoom_idx = dtf.index[first_loc-zoom]\n",
        "    dtf.loc[zoom_idx:][\"ts\"].plot(marker=\".\", linestyle='None', ax=ax[1], color=\"black\", \n",
        "                                  title=\"Zoom on the last \"+str(zoom)+\" observations\")\n",
        "    dtf.loc[zoom_idx:][\"model\"].plot(ax=ax[1], color=\"green\")\n",
        "    dtf.loc[zoom_idx:][\"forecast\"].plot(ax=ax[1], grid=True, color=\"red\")\n",
        "    ax[1].fill_between(x=dtf.loc[zoom_idx:].index, y1=dtf.loc[zoom_idx:]['conf_int_low'], \n",
        "                       y2=dtf.loc[zoom_idx:]['conf_int_up'], color='b', alpha=0.3)\n",
        "    plt.show()\n",
        "    return dtf[[\"ts\",\"model\",\"residuals\",\"conf_int_low\",\"forecast\",\"conf_int_up\"]]"
      ],
      "execution_count": 8,
      "outputs": []
    },
    {
      "cell_type": "code",
      "metadata": {
        "id": "6Hj6fuRSYdU-",
        "colab_type": "code",
        "colab": {}
      },
      "source": [
        "'''\n",
        "Forecast unknown future.\n",
        ":parameter\n",
        "    :param ts: pandas series\n",
        "    :param f: function\n",
        "    :param model: list of optim params\n",
        "    :param pred_ahead: number of observations to forecast (ex. pred_ahead=30)\n",
        "    :param freq: None or str - 'B' business day, 'D' daily, 'W' weekly, 'M' monthly, 'A' annual, 'Q' quarterly\n",
        "    :param zoom: for plotting\n",
        "'''\n",
        "def forecast_curve(ts, f, model, pred_ahead=None, freq=\"D\", zoom=30, figsize=(15,5)):\n",
        "    ## fit\n",
        "    X = np.arange(len(ts))\n",
        "    fitted = f(X, model[0], model[1], model[2])\n",
        "    dtf = ts.to_frame(name=\"ts\")\n",
        "    dtf[\"model\"] = fitted\n",
        "    \n",
        "    ## index\n",
        "    index = pd.date_range(start=cov2.index[-1],periods=pred_ahead,freq=freq)\n",
        "    index = index[1:]\n",
        "    ## forecast\n",
        "    Xnew = np.arange(len(ts)+1, len(ts)+1+len(index))\n",
        "    preds = f(Xnew, model[0], model[1], model[2])\n",
        "    dtf = dtf.append(pd.DataFrame(data=preds, index=index, columns=[\"forecast\"]))\n",
        "    \n",
        "    ## plot\n",
        "    utils_plot_parametric(dtf, zoom=zoom)\n",
        "    return dtf"
      ],
      "execution_count": 15,
      "outputs": []
    },
    {
      "cell_type": "code",
      "metadata": {
        "id": "Rp8wtrWSYfAG",
        "colab_type": "code",
        "colab": {
          "base_uri": "https://localhost:8080/",
          "height": 347
        },
        "outputId": "dd510826-d42d-4f04-e32b-c9bbd0e50763"
      },
      "source": [
        "preds = forecast_curve(cov2[\"Total Confirmed\"], logistic_f, logistic_model, pred_ahead=150, freq=\"D\", zoom=7)"
      ],
      "execution_count": 16,
      "outputs": [
        {
          "output_type": "display_data",
          "data": {
            "image/png": "[encoded data removed]",
            "text/plain": [
              "<Figure size 1080x360 with 2 Axes>"
            ]
          },
          "metadata": {
            "tags": [],
            "needs_background": "light"
          }
        }
      ]
    },
    {
      "cell_type": "code",
      "metadata": {
        "id": "wOzb4MeQN6uF",
        "colab_type": "code",
        "colab": {
          "base_uri": "https://localhost:8080/",
          "height": 402
        },
        "outputId": "90adcc01-bcca-4a79-915b-9d920ae91bcf"
      },
      "source": [
        "preds.tail(150)"
      ],
      "execution_count": 18,
      "outputs": [
        {
          "output_type": "execute_result",
          "data": {
            "text/html": [
              "<div>\n",
              "<style scoped>\n",
              "    .dataframe tbody tr th:only-of-type {\n",
              "        vertical-align: middle;\n",
              "    }\n",
              "\n",
              "    .dataframe tbody tr th {\n",
              "        vertical-align: top;\n",
              "    }\n",
              "\n",
              "    .dataframe thead th {\n",
              "        text-align: right;\n",
              "    }\n",
              "</style>\n",
              "<table border=\"1\" class=\"dataframe\">\n",
              "  <thead>\n",
              "    <tr style=\"text-align: right;\">\n",
              "      <th></th>\n",
              "      <th>ts</th>\n",
              "      <th>model</th>\n",
              "      <th>forecast</th>\n",
              "      <th>residuals</th>\n",
              "      <th>conf_int_low</th>\n",
              "      <th>conf_int_up</th>\n",
              "    </tr>\n",
              "  </thead>\n",
              "  <tbody>\n",
              "    <tr>\n",
              "      <th>2020-06-21</th>\n",
              "      <td>426911.0</td>\n",
              "      <td>417426.576239</td>\n",
              "      <td>NaN</td>\n",
              "      <td>9484.423761</td>\n",
              "      <td>NaN</td>\n",
              "      <td>NaN</td>\n",
              "    </tr>\n",
              "    <tr>\n",
              "      <th>2020-06-22</th>\n",
              "      <td>NaN</td>\n",
              "      <td>NaN</td>\n",
              "      <td>440670.386966</td>\n",
              "      <td>NaN</td>\n",
              "      <td>436415.211142</td>\n",
              "      <td>444925.562790</td>\n",
              "    </tr>\n",
              "    <tr>\n",
              "      <th>2020-06-23</th>\n",
              "      <td>NaN</td>\n",
              "      <td>NaN</td>\n",
              "      <td>452149.854488</td>\n",
              "      <td>NaN</td>\n",
              "      <td>447894.678664</td>\n",
              "      <td>456405.030312</td>\n",
              "    </tr>\n",
              "    <tr>\n",
              "      <th>2020-06-24</th>\n",
              "      <td>NaN</td>\n",
              "      <td>NaN</td>\n",
              "      <td>463507.674571</td>\n",
              "      <td>NaN</td>\n",
              "      <td>459252.498747</td>\n",
              "      <td>467762.850395</td>\n",
              "    </tr>\n",
              "    <tr>\n",
              "      <th>2020-06-25</th>\n",
              "      <td>NaN</td>\n",
              "      <td>NaN</td>\n",
              "      <td>474724.882326</td>\n",
              "      <td>NaN</td>\n",
              "      <td>470469.706502</td>\n",
              "      <td>478980.058150</td>\n",
              "    </tr>\n",
              "    <tr>\n",
              "      <th>...</th>\n",
              "      <td>...</td>\n",
              "      <td>...</td>\n",
              "      <td>...</td>\n",
              "      <td>...</td>\n",
              "      <td>...</td>\n",
              "      <td>...</td>\n",
              "    </tr>\n",
              "    <tr>\n",
              "      <th>2020-11-13</th>\n",
              "      <td>NaN</td>\n",
              "      <td>NaN</td>\n",
              "      <td>770062.710212</td>\n",
              "      <td>NaN</td>\n",
              "      <td>765807.534388</td>\n",
              "      <td>774317.886036</td>\n",
              "    </tr>\n",
              "    <tr>\n",
              "      <th>2020-11-14</th>\n",
              "      <td>NaN</td>\n",
              "      <td>NaN</td>\n",
              "      <td>770067.809696</td>\n",
              "      <td>NaN</td>\n",
              "      <td>765812.633872</td>\n",
              "      <td>774322.985521</td>\n",
              "    </tr>\n",
              "    <tr>\n",
              "      <th>2020-11-15</th>\n",
              "      <td>NaN</td>\n",
              "      <td>NaN</td>\n",
              "      <td>770072.606611</td>\n",
              "      <td>NaN</td>\n",
              "      <td>765817.430787</td>\n",
              "      <td>774327.782436</td>\n",
              "    </tr>\n",
              "    <tr>\n",
              "      <th>2020-11-16</th>\n",
              "      <td>NaN</td>\n",
              "      <td>NaN</td>\n",
              "      <td>770077.118906</td>\n",
              "      <td>NaN</td>\n",
              "      <td>765821.943082</td>\n",
              "      <td>774332.294730</td>\n",
              "    </tr>\n",
              "    <tr>\n",
              "      <th>2020-11-17</th>\n",
              "      <td>NaN</td>\n",
              "      <td>NaN</td>\n",
              "      <td>770081.363465</td>\n",
              "      <td>NaN</td>\n",
              "      <td>765826.187641</td>\n",
              "      <td>774336.539289</td>\n",
              "    </tr>\n",
              "  </tbody>\n",
              "</table>\n",
              "<p>150 rows × 6 columns</p>\n",
              "</div>"
            ],
            "text/plain": [
              "                  ts          model  ...   conf_int_low    conf_int_up\n",
              "2020-06-21  426911.0  417426.576239  ...            NaN            NaN\n",
              "2020-06-22       NaN            NaN  ...  436415.211142  444925.562790\n",
              "2020-06-23       NaN            NaN  ...  447894.678664  456405.030312\n",
              "2020-06-24       NaN            NaN  ...  459252.498747  467762.850395\n",
              "2020-06-25       NaN            NaN  ...  470469.706502  478980.058150\n",
              "...              ...            ...  ...            ...            ...\n",
              "2020-11-13       NaN            NaN  ...  765807.534388  774317.886036\n",
              "2020-11-14       NaN            NaN  ...  765812.633872  774322.985521\n",
              "2020-11-15       NaN            NaN  ...  765817.430787  774327.782436\n",
              "2020-11-16       NaN            NaN  ...  765821.943082  774332.294730\n",
              "2020-11-17       NaN            NaN  ...  765826.187641  774336.539289\n",
              "\n",
              "[150 rows x 6 columns]"
            ]
          },
          "metadata": {
            "tags": []
          },
          "execution_count": 18
        }
      ]
    },
    {
      "cell_type": "code",
      "metadata": {
        "id": "PWM_o4itYq3M",
        "colab_type": "code",
        "colab": {
          "base_uri": "https://localhost:8080/",
          "height": 347
        },
        "outputId": "c995e44e-5e14-4b24-9dc6-f05e3969a518"
      },
      "source": [
        "preds = forecast_curve(cov2[\"Daily Confirmed\"], gaussian_f, gaussian_model, pred_ahead=180, freq=\"D\", zoom=7)"
      ],
      "execution_count": 19,
      "outputs": [
        {
          "output_type": "display_data",
          "data": {
            "image/png": "[encoded data removed]",
            "text/plain": [
              "<Figure size 1080x360 with 2 Axes>"
            ]
          },
          "metadata": {
            "tags": [],
            "needs_background": "light"
          }
        }
      ]
    },
    {
      "cell_type": "code",
      "metadata": {
        "id": "XwDXwz3iZeEY",
        "colab_type": "code",
        "colab": {
          "base_uri": "https://localhost:8080/",
          "height": 402
        },
        "outputId": "531df525-b57a-4f0c-a6e7-d037261ea91b"
      },
      "source": [
        "preds.tail(180)"
      ],
      "execution_count": 23,
      "outputs": [
        {
          "output_type": "execute_result",
          "data": {
            "text/html": [
              "<div>\n",
              "<style scoped>\n",
              "    .dataframe tbody tr th:only-of-type {\n",
              "        vertical-align: middle;\n",
              "    }\n",
              "\n",
              "    .dataframe tbody tr th {\n",
              "        vertical-align: top;\n",
              "    }\n",
              "\n",
              "    .dataframe thead th {\n",
              "        text-align: right;\n",
              "    }\n",
              "</style>\n",
              "<table border=\"1\" class=\"dataframe\">\n",
              "  <thead>\n",
              "    <tr style=\"text-align: right;\">\n",
              "      <th></th>\n",
              "      <th>ts</th>\n",
              "      <th>model</th>\n",
              "      <th>forecast</th>\n",
              "      <th>residuals</th>\n",
              "      <th>conf_int_low</th>\n",
              "      <th>conf_int_up</th>\n",
              "    </tr>\n",
              "  </thead>\n",
              "  <tbody>\n",
              "    <tr>\n",
              "      <th>2020-06-21</th>\n",
              "      <td>15158.0</td>\n",
              "      <td>14411.68816</td>\n",
              "      <td>NaN</td>\n",
              "      <td>746.31184</td>\n",
              "      <td>NaN</td>\n",
              "      <td>NaN</td>\n",
              "    </tr>\n",
              "    <tr>\n",
              "      <th>2020-06-22</th>\n",
              "      <td>NaN</td>\n",
              "      <td>NaN</td>\n",
              "      <td>15036.354522</td>\n",
              "      <td>NaN</td>\n",
              "      <td>14137.071193</td>\n",
              "      <td>15935.637852</td>\n",
              "    </tr>\n",
              "    <tr>\n",
              "      <th>2020-06-23</th>\n",
              "      <td>NaN</td>\n",
              "      <td>NaN</td>\n",
              "      <td>15346.674215</td>\n",
              "      <td>NaN</td>\n",
              "      <td>14447.390885</td>\n",
              "      <td>16245.957544</td>\n",
              "    </tr>\n",
              "    <tr>\n",
              "      <th>2020-06-24</th>\n",
              "      <td>NaN</td>\n",
              "      <td>NaN</td>\n",
              "      <td>15655.174112</td>\n",
              "      <td>NaN</td>\n",
              "      <td>14755.890782</td>\n",
              "      <td>16554.457441</td>\n",
              "    </tr>\n",
              "    <tr>\n",
              "      <th>2020-06-25</th>\n",
              "      <td>NaN</td>\n",
              "      <td>NaN</td>\n",
              "      <td>15961.490415</td>\n",
              "      <td>NaN</td>\n",
              "      <td>15062.207086</td>\n",
              "      <td>16860.773745</td>\n",
              "    </tr>\n",
              "    <tr>\n",
              "      <th>...</th>\n",
              "      <td>...</td>\n",
              "      <td>...</td>\n",
              "      <td>...</td>\n",
              "      <td>...</td>\n",
              "      <td>...</td>\n",
              "      <td>...</td>\n",
              "    </tr>\n",
              "    <tr>\n",
              "      <th>2020-12-13</th>\n",
              "      <td>NaN</td>\n",
              "      <td>NaN</td>\n",
              "      <td>194.024487</td>\n",
              "      <td>NaN</td>\n",
              "      <td>-705.258842</td>\n",
              "      <td>1093.307817</td>\n",
              "    </tr>\n",
              "    <tr>\n",
              "      <th>2020-12-14</th>\n",
              "      <td>NaN</td>\n",
              "      <td>NaN</td>\n",
              "      <td>180.734394</td>\n",
              "      <td>NaN</td>\n",
              "      <td>-718.548935</td>\n",
              "      <td>1080.017724</td>\n",
              "    </tr>\n",
              "    <tr>\n",
              "      <th>2020-12-15</th>\n",
              "      <td>NaN</td>\n",
              "      <td>NaN</td>\n",
              "      <td>168.266237</td>\n",
              "      <td>NaN</td>\n",
              "      <td>-731.017093</td>\n",
              "      <td>1067.549566</td>\n",
              "    </tr>\n",
              "    <tr>\n",
              "      <th>2020-12-16</th>\n",
              "      <td>NaN</td>\n",
              "      <td>NaN</td>\n",
              "      <td>156.575954</td>\n",
              "      <td>NaN</td>\n",
              "      <td>-742.707375</td>\n",
              "      <td>1055.859284</td>\n",
              "    </tr>\n",
              "    <tr>\n",
              "      <th>2020-12-17</th>\n",
              "      <td>NaN</td>\n",
              "      <td>NaN</td>\n",
              "      <td>145.621354</td>\n",
              "      <td>NaN</td>\n",
              "      <td>-753.661976</td>\n",
              "      <td>1044.904683</td>\n",
              "    </tr>\n",
              "  </tbody>\n",
              "</table>\n",
              "<p>180 rows × 6 columns</p>\n",
              "</div>"
            ],
            "text/plain": [
              "                 ts        model  ...  conf_int_low   conf_int_up\n",
              "2020-06-21  15158.0  14411.68816  ...           NaN           NaN\n",
              "2020-06-22      NaN          NaN  ...  14137.071193  15935.637852\n",
              "2020-06-23      NaN          NaN  ...  14447.390885  16245.957544\n",
              "2020-06-24      NaN          NaN  ...  14755.890782  16554.457441\n",
              "2020-06-25      NaN          NaN  ...  15062.207086  16860.773745\n",
              "...             ...          ...  ...           ...           ...\n",
              "2020-12-13      NaN          NaN  ...   -705.258842   1093.307817\n",
              "2020-12-14      NaN          NaN  ...   -718.548935   1080.017724\n",
              "2020-12-15      NaN          NaN  ...   -731.017093   1067.549566\n",
              "2020-12-16      NaN          NaN  ...   -742.707375   1055.859284\n",
              "2020-12-17      NaN          NaN  ...   -753.661976   1044.904683\n",
              "\n",
              "[180 rows x 6 columns]"
            ]
          },
          "metadata": {
            "tags": []
          },
          "execution_count": 23
        }
      ]
    },
    {
      "cell_type": "code",
      "metadata": {
        "id": "IOhMfIiFkNzm",
        "colab_type": "code",
        "colab": {}
      },
      "source": [
        ""
      ],
      "execution_count": 12,
      "outputs": []
    }
  ]
}