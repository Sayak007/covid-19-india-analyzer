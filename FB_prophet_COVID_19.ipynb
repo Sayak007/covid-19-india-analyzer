{
  "cells": [
    {
      "cell_type": "markdown",
      "metadata": {
        "colab_type": "text",
        "id": "view-in-github"
      },
      "source": [
        "<a href=\"https://colab.research.google.com/github/Sayak007/Covid-19-Forecast-Model/blob/master/FB_prophet_COVID_19.ipynb\" target=\"_parent\"><img src=\"https://colab.research.google.com/assets/colab-badge.svg\" alt=\"Open In Colab\"/></a>"
      ]
    },
    {
      "cell_type": "code",
      "execution_count": 11,
      "metadata": {
        "colab": {},
        "colab_type": "code",
        "id": "4uNs4hdd6EbV"
      },
      "outputs": [],
      "source": [
        "import requests\r\n",
        "# to parse json contents\r\n",
        "import json\r\n",
        "# to parse csv files\r\n",
        "import csv\r\n",
        "\r\n",
        "# for numerical operations\r\n",
        "import numpy as np\r\n",
        "# to store and analysis data in dataframes\r\n",
        "import pandas as pd\r\n",
        "from dateutil.parser import parse \r\n",
        "import matplotlib as mpl\r\n",
        "import matplotlib.pyplot as plt\r\n",
        "import seaborn as sns\r\n",
        "from datetime import datetime\r\n",
        "from sklearn import preprocessing, svm\r\n",
        "## For stationarity test and decomposition\r\n",
        "import statsmodels.tsa.api as smt\r\n",
        "import statsmodels.api as sm"
      ]
    },
    {
      "cell_type": "code",
      "execution_count": 12,
      "metadata": {
        "colab": {
          "base_uri": "https://localhost:8080/",
          "height": 195
        },
        "colab_type": "code",
        "id": "mY1gm9N86F0E",
        "outputId": "df48b931-bdbc-48ab-cb0b-7a80ec865dd6"
      },
      "outputs": [
        {
          "data": {
            "text/html": [
              "<div>\n",
              "<style scoped>\n",
              "    .dataframe tbody tr th:only-of-type {\n",
              "        vertical-align: middle;\n",
              "    }\n",
              "\n",
              "    .dataframe tbody tr th {\n",
              "        vertical-align: top;\n",
              "    }\n",
              "\n",
              "    .dataframe thead th {\n",
              "        text-align: right;\n",
              "    }\n",
              "</style>\n",
              "<table border=\"1\" class=\"dataframe\">\n",
              "  <thead>\n",
              "    <tr style=\"text-align: right;\">\n",
              "      <th></th>\n",
              "      <th>Date</th>\n",
              "      <th>Daily Confirmed</th>\n",
              "      <th>Total Confirmed</th>\n",
              "      <th>Daily Recovered</th>\n",
              "      <th>Total Recovered</th>\n",
              "      <th>Daily Deceased</th>\n",
              "      <th>Total Deceased</th>\n",
              "    </tr>\n",
              "  </thead>\n",
              "  <tbody>\n",
              "    <tr>\n",
              "      <th>138</th>\n",
              "      <td>2020-06-16</td>\n",
              "      <td>11086</td>\n",
              "      <td>354161</td>\n",
              "      <td>7226</td>\n",
              "      <td>187550</td>\n",
              "      <td>2004</td>\n",
              "      <td>11922</td>\n",
              "    </tr>\n",
              "    <tr>\n",
              "      <th>139</th>\n",
              "      <td>2020-06-17</td>\n",
              "      <td>13108</td>\n",
              "      <td>367269</td>\n",
              "      <td>6890</td>\n",
              "      <td>194440</td>\n",
              "      <td>341</td>\n",
              "      <td>12263</td>\n",
              "    </tr>\n",
              "    <tr>\n",
              "      <th>140</th>\n",
              "      <td>2020-06-18</td>\n",
              "      <td>13829</td>\n",
              "      <td>381098</td>\n",
              "      <td>10741</td>\n",
              "      <td>205181</td>\n",
              "      <td>343</td>\n",
              "      <td>12606</td>\n",
              "    </tr>\n",
              "    <tr>\n",
              "      <th>141</th>\n",
              "      <td>2020-06-19</td>\n",
              "      <td>14740</td>\n",
              "      <td>395838</td>\n",
              "      <td>9029</td>\n",
              "      <td>214210</td>\n",
              "      <td>364</td>\n",
              "      <td>12970</td>\n",
              "    </tr>\n",
              "    <tr>\n",
              "      <th>142</th>\n",
              "      <td>2020-06-20</td>\n",
              "      <td>15898</td>\n",
              "      <td>411736</td>\n",
              "      <td>13972</td>\n",
              "      <td>228182</td>\n",
              "      <td>308</td>\n",
              "      <td>13278</td>\n",
              "    </tr>\n",
              "  </tbody>\n",
              "</table>\n",
              "</div>"
            ],
            "text/plain": [
              "          Date  Daily Confirmed  ...  Daily Deceased  Total Deceased\n",
              "138 2020-06-16            11086  ...            2004           11922\n",
              "139 2020-06-17            13108  ...             341           12263\n",
              "140 2020-06-18            13829  ...             343           12606\n",
              "141 2020-06-19            14740  ...             364           12970\n",
              "142 2020-06-20            15898  ...             308           13278\n",
              "\n",
              "[5 rows x 7 columns]"
            ]
          },
          "execution_count": 12,
          "metadata": {
            "tags": []
          },
          "output_type": "execute_result"
        }
      ],
      "source": [
        "dateparse = lambda dates: datetime.strptime(str(dates)+\"2020\", '%d %B %Y')\n",
        "cov = pd.read_csv('https://api.covid19india.org/csv/latest/case_time_series.csv',parse_dates=['Date'],date_parser=dateparse)\n",
        "cov.to_csv('nation_level_daily.csv')\n",
        "cov.tail()"
      ]
    },
    {
      "cell_type": "code",
      "execution_count": 13,
      "metadata": {
        "colab": {},
        "colab_type": "code",
        "id": "NxrkMKW46Ho5"
      },
      "outputs": [],
      "source": [
        "import fbprophet"
      ]
    },
    {
      "cell_type": "code",
      "execution_count": 14,
      "metadata": {
        "colab": {
          "base_uri": "https://localhost:8080/",
          "height": 67
        },
        "colab_type": "code",
        "id": "6nghxXHG6UgT",
        "outputId": "0eb4c1fc-24cb-4ec4-e57d-a236b32ffed1"
      },
      "outputs": [
        {
          "name": "stderr",
          "output_type": "stream",
          "text": [
            "INFO:fbprophet:Disabling yearly seasonality. Run prophet with yearly_seasonality=True to override this.\n",
            "INFO:fbprophet:Disabling daily seasonality. Run prophet with daily_seasonality=True to override this.\n"
          ]
        },
        {
          "data": {
            "text/plain": [
              "<fbprophet.forecaster.Prophet at 0x7fed140a4588>"
            ]
          },
          "execution_count": 14,
          "metadata": {
            "tags": []
          },
          "output_type": "execute_result"
        }
      ],
      "source": [
        "# Prophet requires columns ds (Date) and y (value)\n",
        "cov2=cov.rename(columns={'Date': 'ds', 'Daily Confirmed': 'y'},errors=\"raise\")\n",
        "# Make the prophet model and fit on the data\n",
        "cov2_prophet = fbprophet.Prophet(changepoint_prior_scale=0.15)\n",
        "cov2_prophet.fit(cov2)"
      ]
    },
    {
      "cell_type": "code",
      "execution_count": 15,
      "metadata": {
        "colab": {},
        "colab_type": "code",
        "id": "d7dpRwbb6jyf"
      },
      "outputs": [],
      "source": [
        "# Make a future dataframe for 15 days\n",
        "cov2_forecast = cov2_prophet.make_future_dataframe(periods=15, freq='D')\n",
        "# Make predictions\n",
        "cov2_forecast = cov2_prophet.predict(cov2_forecast)"
      ]
    },
    {
      "cell_type": "code",
      "execution_count": 16,
      "metadata": {
        "colab": {
          "base_uri": "https://localhost:8080/",
          "height": 457
        },
        "colab_type": "code",
        "id": "noCP0jjw9VuZ",
        "outputId": "04926ccf-bb7a-4ddc-fa6b-416a91c9a78d"
      },
      "outputs": [
        {
          "data": {
            "image/png": "[encoded data removed]",
            "text/plain": [
              "<Figure size 720x432 with 1 Axes>"
            ]
          },
          "metadata": {
            "tags": []
          },
          "output_type": "display_data"
        }
      ],
      "source": [
        "cov2_prophet.plot(cov2_forecast, xlabel = 'Date', ylabel = 'Daily Affected')\n",
        "plt.title('Daily Confirmed Graph');"
      ]
    },
    {
      "cell_type": "code",
      "execution_count": 17,
      "metadata": {
        "colab": {
          "base_uri": "https://localhost:8080/",
          "height": 655
        },
        "colab_type": "code",
        "id": "x6_dvjj59fBM",
        "outputId": "1e6d0baf-7e41-451a-cb1a-27fb61c585d9"
      },
      "outputs": [
        {
          "name": "stdout",
          "output_type": "stream",
          "text": [
            "            ds         trend  ...  multiplicative_terms_upper          yhat\n",
            "128 2020-06-06   9917.593472  ...                         0.0  10110.360183\n",
            "129 2020-06-07  10177.302012  ...                         0.0  10289.805051\n",
            "130 2020-06-08  10437.010551  ...                         0.0  10163.439871\n",
            "131 2020-06-09  10696.719091  ...                         0.0  10553.895795\n",
            "132 2020-06-10  10956.427631  ...                         0.0  10984.065017\n",
            "133 2020-06-11  11216.136171  ...                         0.0  11249.652491\n",
            "134 2020-06-12  11475.844711  ...                         0.0  11525.815230\n",
            "135 2020-06-13  11735.553251  ...                         0.0  11928.319961\n",
            "136 2020-06-14  11995.261790  ...                         0.0  12107.764830\n",
            "137 2020-06-15  12254.970330  ...                         0.0  11981.399649\n",
            "138 2020-06-16  12514.678870  ...                         0.0  12371.855574\n",
            "139 2020-06-17  12774.387410  ...                         0.0  12802.024796\n",
            "140 2020-06-18  13034.095950  ...                         0.0  13067.612270\n",
            "141 2020-06-19  13293.804490  ...                         0.0  13343.775009\n",
            "142 2020-06-20  13553.513029  ...                         0.0  13746.279740\n",
            "143 2020-06-21  13813.221569  ...                         0.0  13925.724609\n",
            "144 2020-06-22  14072.930109  ...                         0.0  13799.359428\n",
            "145 2020-06-23  14332.638649  ...                         0.0  14189.815353\n",
            "146 2020-06-24  14592.347189  ...                         0.0  14619.984575\n",
            "147 2020-06-25  14852.055729  ...                         0.0  14885.572049\n",
            "148 2020-06-26  15111.764268  ...                         0.0  15161.734788\n",
            "149 2020-06-27  15371.472808  ...                         0.0  15564.239519\n",
            "150 2020-06-28  15631.181348  ...                         0.0  15743.684388\n",
            "151 2020-06-29  15890.889888  ...                         0.0  15617.319207\n",
            "152 2020-06-30  16150.598428  ...                         0.0  16007.775131\n",
            "153 2020-07-01  16410.306968  ...                         0.0  16437.944354\n",
            "154 2020-07-02  16670.015507  ...                         0.0  16703.531828\n",
            "155 2020-07-03  16929.724047  ...                         0.0  16979.694567\n",
            "156 2020-07-04  17189.432587  ...                         0.0  17382.199298\n",
            "157 2020-07-05  17449.141127  ...                         0.0  17561.644167\n",
            "\n",
            "[30 rows x 16 columns]\n"
          ]
        },
        {
          "data": {
            "text/plain": [
              "Index(['ds', 'trend', 'yhat_lower', 'yhat_upper', 'trend_lower', 'trend_upper',\n",
              "       'additive_terms', 'additive_terms_lower', 'additive_terms_upper',\n",
              "       'weekly', 'weekly_lower', 'weekly_upper', 'multiplicative_terms',\n",
              "       'multiplicative_terms_lower', 'multiplicative_terms_upper', 'yhat'],\n",
              "      dtype='object')"
            ]
          },
          "execution_count": 17,
          "metadata": {
            "tags": []
          },
          "output_type": "execute_result"
        }
      ],
      "source": [
        "from sklearn.metrics import mean_squared_error\n",
        "from math import sqrt\n",
        "print(cov2_forecast.tail(30))\n",
        "cov2_forecast.columns"
      ]
    },
    {
      "cell_type": "code",
      "execution_count": 18,
      "metadata": {
        "colab": {
          "base_uri": "https://localhost:8080/",
          "height": 34
        },
        "colab_type": "code",
        "id": "1AK4Nx0x-8D7",
        "outputId": "8cf0b11c-34f2-47ea-caec-365c55f82511"
      },
      "outputs": [
        {
          "name": "stdout",
          "output_type": "stream",
          "text": [
            "428.99216139664816\n"
          ]
        }
      ],
      "source": [
        "cov3_forecast=cov2_forecast.iloc[0:143]\n",
        "rms = sqrt(mean_squared_error(cov['Daily Confirmed'], cov3_forecast.yhat))\n",
        "print(rms)"
      ]
    },
    {
      "cell_type": "code",
      "execution_count": 19,
      "metadata": {
        "colab": {
          "base_uri": "https://localhost:8080/",
          "height": 34
        },
        "colab_type": "code",
        "id": "eg7DDEjS_VyO",
        "outputId": "22dc9987-124a-4944-d36d-9e56fbf316a7"
      },
      "outputs": [
        {
          "name": "stdout",
          "output_type": "stream",
          "text": [
            "453.01948947174634\n"
          ]
        }
      ],
      "source": [
        "rms1 = sqrt(mean_squared_error(cov['Daily Confirmed'], cov3_forecast.trend))\n",
        "print(rms1)"
      ]
    },
    {
      "cell_type": "code",
      "execution_count": 20,
      "metadata": {
        "colab": {},
        "colab_type": "code",
        "id": "w18AnXvEKPTj"
      },
      "outputs": [],
      "source": [
        "def find_outliers(ts, perc=0.01, figsize=(15,5)):\n",
        "    ## fit svm\n",
        "    scaler = preprocessing.StandardScaler()\n",
        "    ts_scaled = scaler.fit_transform(ts.values.reshape(-1,1))\n",
        "    model = svm.OneClassSVM(nu=perc, kernel=\"rbf\", gamma=0.01)\n",
        "    model.fit(ts_scaled)\n",
        "    ## dtf output\n",
        "    dtf_outliers = ts.to_frame(name=\"ts\")\n",
        "    dtf_outliers[\"index\"] = range(len(ts))\n",
        "    dtf_outliers[\"outlier\"] = model.predict(ts_scaled)\n",
        "    dtf_outliers[\"outlier\"] = dtf_outliers[\"outlier\"].apply(lambda\n",
        "                                              x: 1 if x==-1 else 0)\n",
        "    ## plot\n",
        "    fig, ax = plt.subplots(figsize=figsize)\n",
        "    ax.set(title=\"Outliers detection: found\"\n",
        "           +str(sum(dtf_outliers[\"outlier\"]==1)))\n",
        "    ax.plot(dtf_outliers[\"index\"], dtf_outliers[\"ts\"],\n",
        "            color=\"black\")\n",
        "    ax.scatter(x=dtf_outliers[dtf_outliers[\"outlier\"]==1][\"index\"],\n",
        "               y=dtf_outliers[dtf_outliers[\"outlier\"]==1]['ts'],\n",
        "               color='red')\n",
        "    ax.grid(True)\n",
        "    plt.show()\n",
        "    return dtf_outliers"
      ]
    },
    {
      "cell_type": "code",
      "execution_count": 21,
      "metadata": {
        "colab": {},
        "colab_type": "code",
        "id": "_XCE73JJKQNo"
      },
      "outputs": [],
      "source": [
        "def remove_outliers(ts, outliers_idx, figsize=(15,5)):\n",
        "    ts_clean = ts.copy()\n",
        "    ts_clean.loc[outliers_idx] = np.nan\n",
        "    ts_clean = ts_clean.interpolate(method=\"linear\")\n",
        "    ax = ts.plot(figsize=figsize, color=\"red\", alpha=0.5,\n",
        "         title=\"Remove outliers\", label=\"original\", legend=True)\n",
        "    ts_clean.plot(ax=ax, grid=True, color=\"black\",\n",
        "                  label=\"interpolated\", legend=True)\n",
        "    plt.show()\n",
        "    return ts_clean"
      ]
    },
    {
      "cell_type": "code",
      "execution_count": 22,
      "metadata": {
        "colab": {
          "base_uri": "https://localhost:8080/",
          "height": 336
        },
        "colab_type": "code",
        "id": "xlcN53kQKdVR",
        "outputId": "2c4ffb19-864c-449a-945c-886098ca8f68"
      },
      "outputs": [
        {
          "data": {
            "image/png": "[encoded data removed]",
            "text/plain": [
              "<Figure size 1080x360 with 1 Axes>"
            ]
          },
          "metadata": {
            "needs_background": "light",
            "tags": []
          },
          "output_type": "display_data"
        }
      ],
      "source": [
        "dtf_outliers = find_outliers(cov['Daily Recovered'], perc=0.05)"
      ]
    },
    {
      "cell_type": "code",
      "execution_count": 23,
      "metadata": {
        "colab": {
          "base_uri": "https://localhost:8080/",
          "height": 336
        },
        "colab_type": "code",
        "id": "Lo5aK3NQKvAd",
        "outputId": "ddcc5b4b-43f8-4d79-c7c0-39990bb97e20"
      },
      "outputs": [
        {
          "data": {
            "image/png": "[encoded data removed]",
            "text/plain": [
              "<Figure size 1080x360 with 1 Axes>"
            ]
          },
          "metadata": {
            "needs_background": "light",
            "tags": []
          },
          "output_type": "display_data"
        }
      ],
      "source": [
        "outliers_index_pos = dtf_outliers[dtf_outliers[\"outlier\"]==1].index\n",
        "cov_removed=remove_outliers(cov['Daily Recovered'],outliers_idx=outliers_index_pos)"
      ]
    },
    {
      "cell_type": "code",
      "execution_count": 24,
      "metadata": {
        "colab": {
          "base_uri": "https://localhost:8080/",
          "height": 218
        },
        "colab_type": "code",
        "id": "4OXi4wNyLaP9",
        "outputId": "fcb9725e-cf43-4535-efb8-267500a33c57"
      },
      "outputs": [
        {
          "name": "stdout",
          "output_type": "stream",
          "text": [
            "0         NaN\n",
            "1         NaN\n",
            "2         NaN\n",
            "3         NaN\n",
            "4         NaN\n",
            "        ...  \n",
            "138    7226.0\n",
            "139    6890.0\n",
            "140    7959.5\n",
            "141    9029.0\n",
            "142    9029.0\n",
            "Name: Daily Recovered, Length: 143, dtype: float64\n"
          ]
        }
      ],
      "source": [
        "print(cov_removed)"
      ]
    },
    {
      "cell_type": "code",
      "execution_count": 25,
      "metadata": {
        "colab": {
          "base_uri": "https://localhost:8080/",
          "height": 252
        },
        "colab_type": "code",
        "id": "vpb6lHX5LmXS",
        "outputId": "f4f12d74-273b-4ccc-b631-e31181b236d2"
      },
      "outputs": [
        {
          "name": "stdout",
          "output_type": "stream",
          "text": [
            "          Date  Daily Confirmed  ...  Total Deceased  D R Removed\n",
            "0   2020-01-30                1  ...               0          NaN\n",
            "1   2020-01-31                0  ...               0          NaN\n",
            "2   2020-02-01                0  ...               0          NaN\n",
            "3   2020-02-02                1  ...               0          NaN\n",
            "4   2020-02-03                1  ...               0          NaN\n",
            "..         ...              ...  ...             ...          ...\n",
            "138 2020-06-16            11086  ...           11922       7226.0\n",
            "139 2020-06-17            13108  ...           12263       6890.0\n",
            "140 2020-06-18            13829  ...           12606       7959.5\n",
            "141 2020-06-19            14740  ...           12970       9029.0\n",
            "142 2020-06-20            15898  ...           13278       9029.0\n",
            "\n",
            "[143 rows x 8 columns]\n"
          ]
        }
      ],
      "source": [
        "cov['D R Removed']=cov_removed\n",
        "print(cov)\n"
      ]
    },
    {
      "cell_type": "code",
      "execution_count": 26,
      "metadata": {
        "colab": {
          "base_uri": "https://localhost:8080/",
          "height": 67
        },
        "colab_type": "code",
        "id": "2KOx9cjiCgDo",
        "outputId": "d9daaf28-9923-49db-a991-1c029a4c1a57"
      },
      "outputs": [
        {
          "name": "stderr",
          "output_type": "stream",
          "text": [
            "INFO:fbprophet:Disabling yearly seasonality. Run prophet with yearly_seasonality=True to override this.\n",
            "INFO:fbprophet:Disabling daily seasonality. Run prophet with daily_seasonality=True to override this.\n"
          ]
        },
        {
          "data": {
            "text/plain": [
              "<fbprophet.forecaster.Prophet at 0x7fed10ae9128>"
            ]
          },
          "execution_count": 26,
          "metadata": {
            "tags": []
          },
          "output_type": "execute_result"
        }
      ],
      "source": [
        "# Prophet requires columns ds (Date) and y (value)\n",
        "cov3=cov.rename(columns={'Date': 'ds', 'D R Removed': 'y'},errors=\"raise\")\n",
        "# Make the prophet model and fit on the data\n",
        "cov31_prophet = fbprophet.Prophet(changepoint_prior_scale=0.15)\n",
        "cov31_prophet.fit(cov3)"
      ]
    },
    {
      "cell_type": "code",
      "execution_count": 27,
      "metadata": {
        "colab": {},
        "colab_type": "code",
        "id": "IY06C64UJJ7z"
      },
      "outputs": [],
      "source": [
        "# Make a future dataframe for 15 days\n",
        "cov31_forecast = cov31_prophet.make_future_dataframe(periods=15, freq='D')\n",
        "# Make predictions\n",
        "cov31_forecast = cov31_prophet.predict(cov3_forecast)"
      ]
    },
    {
      "cell_type": "code",
      "execution_count": 28,
      "metadata": {
        "colab": {
          "base_uri": "https://localhost:8080/",
          "height": 457
        },
        "colab_type": "code",
        "id": "eUpXnImYJUOu",
        "outputId": "d857ce0d-34b2-408d-f338-b9569ec35a39"
      },
      "outputs": [
        {
          "data": {
            "image/png": "[encoded data removed]",
            "text/plain": [
              "<Figure size 720x432 with 1 Axes>"
            ]
          },
          "metadata": {
            "tags": []
          },
          "output_type": "display_data"
        }
      ],
      "source": [
        "cov31_prophet.plot(cov31_forecast, xlabel = 'Date', ylabel = 'Daily Recovered')\n",
        "plt.title('Daily Recovered Graph');"
      ]
    },
    {
      "cell_type": "code",
      "execution_count": 29,
      "metadata": {
        "colab": {
          "base_uri": "https://localhost:8080/",
          "height": 336
        },
        "colab_type": "code",
        "id": "44h_BdwCJYxC",
        "outputId": "774008e1-1f4b-499b-eb36-fb7f05bf827e"
      },
      "outputs": [
        {
          "data": {
            "image/png": "[encoded data removed]",
            "text/plain": [
              "<Figure size 1080x360 with 1 Axes>"
            ]
          },
          "metadata": {
            "needs_background": "light",
            "tags": []
          },
          "output_type": "display_data"
        }
      ],
      "source": [
        "dc_outliers = find_outliers(cov['Daily Deceased'], perc=0.05)"
      ]
    },
    {
      "cell_type": "code",
      "execution_count": 30,
      "metadata": {
        "colab": {
          "base_uri": "https://localhost:8080/",
          "height": 336
        },
        "colab_type": "code",
        "id": "H8_SQ0eTKDDr",
        "outputId": "319d6262-6098-44e2-bd7a-4075e305250d"
      },
      "outputs": [
        {
          "data": {
            "image/png": "[encoded data removed]",
            "text/plain": [
              "<Figure size 1080x360 with 1 Axes>"
            ]
          },
          "metadata": {
            "needs_background": "light",
            "tags": []
          },
          "output_type": "display_data"
        }
      ],
      "source": [
        "outliers_index_pos = dtf_outliers[dtf_outliers[\"outlier\"]==1].index\n",
        "cov_removed_dc=remove_outliers(cov['Daily Deceased'],outliers_idx=outliers_index_pos)"
      ]
    },
    {
      "cell_type": "code",
      "execution_count": 31,
      "metadata": {
        "colab": {
          "base_uri": "https://localhost:8080/",
          "height": 252
        },
        "colab_type": "code",
        "id": "iKWRbBTVNdIr",
        "outputId": "fe377666-0277-4e0c-a61e-66a065d8c60a"
      },
      "outputs": [
        {
          "name": "stdout",
          "output_type": "stream",
          "text": [
            "          Date  Daily Confirmed  ...  D R Removed  D R Dec\n",
            "0   2020-01-30                1  ...          NaN      NaN\n",
            "1   2020-01-31                0  ...          NaN      NaN\n",
            "2   2020-02-01                0  ...          NaN      NaN\n",
            "3   2020-02-02                1  ...          NaN      NaN\n",
            "4   2020-02-03                1  ...          NaN      NaN\n",
            "..         ...              ...  ...          ...      ...\n",
            "138 2020-06-16            11086  ...       7226.0   2004.0\n",
            "139 2020-06-17            13108  ...       6890.0    341.0\n",
            "140 2020-06-18            13829  ...       7959.5    352.5\n",
            "141 2020-06-19            14740  ...       9029.0    364.0\n",
            "142 2020-06-20            15898  ...       9029.0    364.0\n",
            "\n",
            "[143 rows x 9 columns]\n"
          ]
        }
      ],
      "source": [
        "cov['D R Dec']=cov_removed_dc\n",
        "print(cov)"
      ]
    },
    {
      "cell_type": "code",
      "execution_count": 32,
      "metadata": {
        "colab": {
          "base_uri": "https://localhost:8080/",
          "height": 67
        },
        "colab_type": "code",
        "id": "AnGR_iqcMldt",
        "outputId": "62910c2e-83d9-42e1-dbc4-edad2e648f7a"
      },
      "outputs": [
        {
          "name": "stderr",
          "output_type": "stream",
          "text": [
            "INFO:fbprophet:Disabling yearly seasonality. Run prophet with yearly_seasonality=True to override this.\n",
            "INFO:fbprophet:Disabling daily seasonality. Run prophet with daily_seasonality=True to override this.\n"
          ]
        },
        {
          "data": {
            "text/plain": [
              "<fbprophet.forecaster.Prophet at 0x7fed0dc9de10>"
            ]
          },
          "execution_count": 32,
          "metadata": {
            "tags": []
          },
          "output_type": "execute_result"
        }
      ],
      "source": [
        "# Prophet requires columns ds (Date) and y (value)\n",
        "cov_dc=cov.rename(columns={'Date': 'ds', 'D R Dec': 'y'},errors=\"raise\")\n",
        "# Make the prophet model and fit on the data\n",
        "cov41_prophet = fbprophet.Prophet(changepoint_prior_scale=0.15)\n",
        "cov41_prophet.fit(cov_dc)"
      ]
    },
    {
      "cell_type": "code",
      "execution_count": 33,
      "metadata": {
        "colab": {},
        "colab_type": "code",
        "id": "TqIx_qKcM7ju"
      },
      "outputs": [],
      "source": [
        "# Make a future dataframe for 15 days\n",
        "cov41_forecast = cov41_prophet.make_future_dataframe(periods=15, freq='D')\n",
        "# Make predictions\n",
        "cov41_forecast = cov41_prophet.predict(cov41_forecast)"
      ]
    },
    {
      "cell_type": "code",
      "execution_count": 34,
      "metadata": {
        "colab": {
          "base_uri": "https://localhost:8080/",
          "height": 457
        },
        "colab_type": "code",
        "id": "nqGl7P5fN0P3",
        "outputId": "0419ec8a-1551-4ac7-fa1d-122d08ef0edd"
      },
      "outputs": [
        {
          "data": {
            "image/png": "[encoded data removed]",
            "text/plain": [
              "<Figure size 720x432 with 1 Axes>"
            ]
          },
          "metadata": {
            "tags": []
          },
          "output_type": "display_data"
        }
      ],
      "source": [
        "cov41_prophet.plot(cov41_forecast, xlabel = 'Date', ylabel = 'Daily Deceased')\n",
        "plt.title('Daily  Deceased Graph');"
      ]
    },
    {
      "cell_type": "code",
      "execution_count": 35,
      "metadata": {
        "colab": {
          "base_uri": "https://localhost:8080/",
          "height": 336
        },
        "colab_type": "code",
        "id": "VbCooQgeN-aS",
        "outputId": "a1dba8cb-e388-431a-89bc-b874e5bad931"
      },
      "outputs": [
        {
          "data": {
            "image/png": "[encoded data removed]",
            "text/plain": [
              "<Figure size 1080x360 with 1 Axes>"
            ]
          },
          "metadata": {
            "needs_background": "light",
            "tags": []
          },
          "output_type": "display_data"
        }
      ],
      "source": [
        "tc_outliers = find_outliers(cov['Total Confirmed'], perc=0.05)"
      ]
    },
    {
      "cell_type": "code",
      "execution_count": 79,
      "metadata": {
        "colab": {
          "base_uri": "https://localhost:8080/",
          "height": 84
        },
        "colab_type": "code",
        "id": "miwNG23Y1Ksq",
        "outputId": "79757685-8131-4dad-c9ce-d444d4deee2e"
      },
      "outputs": [
        {
          "name": "stderr",
          "output_type": "stream",
          "text": [
            "INFO:fbprophet:Disabling yearly seasonality. Run prophet with yearly_seasonality=True to override this.\n",
            "INFO:fbprophet:Disabling daily seasonality. Run prophet with daily_seasonality=True to override this.\n",
            "INFO:fbprophet:n_changepoints greater than number of observations. Using 11.\n"
          ]
        },
        {
          "data": {
            "text/plain": [
              "<fbprophet.forecaster.Prophet at 0x7fed10a0cb00>"
            ]
          },
          "execution_count": 79,
          "metadata": {
            "tags": []
          },
          "output_type": "execute_result"
        }
      ],
      "source": [
        "covtc=cov.iloc[-15:]\n",
        "# Prophet requires columns ds (Date) and y (value)\n",
        "cov_tc=covtc.rename(columns={'Date': 'ds', 'Total Confirmed': 'y'},errors=\"raise\")\n",
        "# Make the prophet model and fit on the data\n",
        "cov51_prophet = fbprophet.Prophet(changepoint_prior_scale=0.15)\n",
        "cov51_prophet.fit(cov_tc)"
      ]
    },
    {
      "cell_type": "code",
      "execution_count": 80,
      "metadata": {
        "colab": {},
        "colab_type": "code",
        "id": "JHpSR0Cq1Thk"
      },
      "outputs": [],
      "source": [
        "# Make a future dataframe for 15 days\n",
        "cov51_forecast = cov51_prophet.make_future_dataframe(periods=15, freq='D')\n",
        "# Make predictions\n",
        "cov51_forecast = cov51_prophet.predict(cov51_forecast)"
      ]
    },
    {
      "cell_type": "code",
      "execution_count": 81,
      "metadata": {
        "colab": {
          "base_uri": "https://localhost:8080/",
          "height": 457
        },
        "colab_type": "code",
        "id": "iDD-3Ref1btB",
        "outputId": "84075c96-b0e0-46c2-f11f-b2193fd718cc"
      },
      "outputs": [
        {
          "data": {
            "image/png": "[encoded data removed]",
            "text/plain": [
              "<Figure size 720x432 with 1 Axes>"
            ]
          },
          "metadata": {
            "tags": []
          },
          "output_type": "display_data"
        }
      ],
      "source": [
        "cov51_prophet.plot(cov51_forecast, xlabel = 'Date', ylabel = 'Total Confirmed')\n",
        "plt.plot(cov['Date'],cov['Total Confirmed'],color='yellow')\n",
        "plt.title('Total Confirmed Graph');"
      ]
    },
    {
      "cell_type": "code",
      "execution_count": 82,
      "metadata": {
        "colab": {
          "base_uri": "https://localhost:8080/",
          "height": 34
        },
        "colab_type": "code",
        "id": "ULai8i7H1jBj",
        "outputId": "b5e24a50-a5d3-4f4e-b747-51a4600e6a2c"
      },
      "outputs": [
        {
          "name": "stdout",
          "output_type": "stream",
          "text": [
            "1.5934801223786229e-09\n"
          ]
        }
      ],
      "source": [
        "cov52_forecast=cov51_forecast.iloc[0:15]\n",
        "rms = sqrt(mean_squared_error(covtc['Total Confirmed'], cov52_forecast.yhat))\n",
        "print(rms)"
      ]
    },
    {
      "cell_type": "code",
      "execution_count": 55,
      "metadata": {
        "colab": {
          "base_uri": "https://localhost:8080/",
          "height": 1000
        },
        "colab_type": "code",
        "id": "YqBcBdUM1vFD",
        "outputId": "d739594a-ecd7-49d5-9cb8-8cc53cf954c1"
      },
      "outputs": [
        {
          "data": {
            "text/html": [
              "<div>\n",
              "<style scoped>\n",
              "    .dataframe tbody tr th:only-of-type {\n",
              "        vertical-align: middle;\n",
              "    }\n",
              "\n",
              "    .dataframe tbody tr th {\n",
              "        vertical-align: top;\n",
              "    }\n",
              "\n",
              "    .dataframe thead th {\n",
              "        text-align: right;\n",
              "    }\n",
              "</style>\n",
              "<table border=\"1\" class=\"dataframe\">\n",
              "  <thead>\n",
              "    <tr style=\"text-align: right;\">\n",
              "      <th></th>\n",
              "      <th>ds</th>\n",
              "      <th>trend</th>\n",
              "      <th>yhat_lower</th>\n",
              "      <th>yhat_upper</th>\n",
              "      <th>trend_lower</th>\n",
              "      <th>trend_upper</th>\n",
              "      <th>additive_terms</th>\n",
              "      <th>additive_terms_lower</th>\n",
              "      <th>additive_terms_upper</th>\n",
              "      <th>weekly</th>\n",
              "      <th>weekly_lower</th>\n",
              "      <th>weekly_upper</th>\n",
              "      <th>multiplicative_terms</th>\n",
              "      <th>multiplicative_terms_lower</th>\n",
              "      <th>multiplicative_terms_upper</th>\n",
              "      <th>yhat</th>\n",
              "    </tr>\n",
              "  </thead>\n",
              "  <tbody>\n",
              "    <tr>\n",
              "      <th>0</th>\n",
              "      <td>2020-06-06</td>\n",
              "      <td>243162.452379</td>\n",
              "      <td>246602.999998</td>\n",
              "      <td>246603.000001</td>\n",
              "      <td>243162.452379</td>\n",
              "      <td>243162.452379</td>\n",
              "      <td>3440.547621</td>\n",
              "      <td>3440.547621</td>\n",
              "      <td>3440.547621</td>\n",
              "      <td>3440.547621</td>\n",
              "      <td>3440.547621</td>\n",
              "      <td>3440.547621</td>\n",
              "      <td>0.0</td>\n",
              "      <td>0.0</td>\n",
              "      <td>0.0</td>\n",
              "      <td>246603.000000</td>\n",
              "    </tr>\n",
              "    <tr>\n",
              "      <th>1</th>\n",
              "      <td>2020-06-07</td>\n",
              "      <td>254032.658729</td>\n",
              "      <td>257484.999999</td>\n",
              "      <td>257485.000002</td>\n",
              "      <td>254032.658729</td>\n",
              "      <td>254032.658729</td>\n",
              "      <td>3452.341271</td>\n",
              "      <td>3452.341271</td>\n",
              "      <td>3452.341271</td>\n",
              "      <td>3452.341271</td>\n",
              "      <td>3452.341271</td>\n",
              "      <td>3452.341271</td>\n",
              "      <td>0.0</td>\n",
              "      <td>0.0</td>\n",
              "      <td>0.0</td>\n",
              "      <td>257485.000000</td>\n",
              "    </tr>\n",
              "    <tr>\n",
              "      <th>2</th>\n",
              "      <td>2020-06-08</td>\n",
              "      <td>265315.925275</td>\n",
              "      <td>266020.999998</td>\n",
              "      <td>266021.000002</td>\n",
              "      <td>265315.925275</td>\n",
              "      <td>265315.925275</td>\n",
              "      <td>705.074725</td>\n",
              "      <td>705.074725</td>\n",
              "      <td>705.074725</td>\n",
              "      <td>705.074725</td>\n",
              "      <td>705.074725</td>\n",
              "      <td>705.074725</td>\n",
              "      <td>0.0</td>\n",
              "      <td>0.0</td>\n",
              "      <td>0.0</td>\n",
              "      <td>266021.000000</td>\n",
              "    </tr>\n",
              "    <tr>\n",
              "      <th>3</th>\n",
              "      <td>2020-06-09</td>\n",
              "      <td>279736.620280</td>\n",
              "      <td>276001.999999</td>\n",
              "      <td>276002.000002</td>\n",
              "      <td>279736.620280</td>\n",
              "      <td>279736.620280</td>\n",
              "      <td>-3734.620280</td>\n",
              "      <td>-3734.620280</td>\n",
              "      <td>-3734.620280</td>\n",
              "      <td>-3734.620280</td>\n",
              "      <td>-3734.620280</td>\n",
              "      <td>-3734.620280</td>\n",
              "      <td>0.0</td>\n",
              "      <td>0.0</td>\n",
              "      <td>0.0</td>\n",
              "      <td>276002.000000</td>\n",
              "    </tr>\n",
              "    <tr>\n",
              "      <th>4</th>\n",
              "      <td>2020-06-10</td>\n",
              "      <td>289775.445479</td>\n",
              "      <td>287157.999998</td>\n",
              "      <td>287158.000001</td>\n",
              "      <td>289775.445479</td>\n",
              "      <td>289775.445479</td>\n",
              "      <td>-2617.445479</td>\n",
              "      <td>-2617.445479</td>\n",
              "      <td>-2617.445479</td>\n",
              "      <td>-2617.445479</td>\n",
              "      <td>-2617.445479</td>\n",
              "      <td>-2617.445479</td>\n",
              "      <td>0.0</td>\n",
              "      <td>0.0</td>\n",
              "      <td>0.0</td>\n",
              "      <td>287158.000000</td>\n",
              "    </tr>\n",
              "    <tr>\n",
              "      <th>5</th>\n",
              "      <td>2020-06-11</td>\n",
              "      <td>299884.447779</td>\n",
              "      <td>298292.999998</td>\n",
              "      <td>298293.000001</td>\n",
              "      <td>299884.447779</td>\n",
              "      <td>299884.447779</td>\n",
              "      <td>-1591.447779</td>\n",
              "      <td>-1591.447779</td>\n",
              "      <td>-1591.447779</td>\n",
              "      <td>-1591.447779</td>\n",
              "      <td>-1591.447779</td>\n",
              "      <td>-1591.447779</td>\n",
              "      <td>0.0</td>\n",
              "      <td>0.0</td>\n",
              "      <td>0.0</td>\n",
              "      <td>298293.000000</td>\n",
              "    </tr>\n",
              "    <tr>\n",
              "      <th>6</th>\n",
              "      <td>2020-06-12</td>\n",
              "      <td>309253.450079</td>\n",
              "      <td>309598.999998</td>\n",
              "      <td>309599.000001</td>\n",
              "      <td>309253.450079</td>\n",
              "      <td>309253.450079</td>\n",
              "      <td>345.549921</td>\n",
              "      <td>345.549921</td>\n",
              "      <td>345.549921</td>\n",
              "      <td>345.549921</td>\n",
              "      <td>345.549921</td>\n",
              "      <td>345.549921</td>\n",
              "      <td>0.0</td>\n",
              "      <td>0.0</td>\n",
              "      <td>0.0</td>\n",
              "      <td>309599.000000</td>\n",
              "    </tr>\n",
              "    <tr>\n",
              "      <th>7</th>\n",
              "      <td>2020-06-13</td>\n",
              "      <td>318197.452379</td>\n",
              "      <td>321637.999999</td>\n",
              "      <td>321638.000001</td>\n",
              "      <td>318197.452379</td>\n",
              "      <td>318197.452379</td>\n",
              "      <td>3440.547621</td>\n",
              "      <td>3440.547621</td>\n",
              "      <td>3440.547621</td>\n",
              "      <td>3440.547621</td>\n",
              "      <td>3440.547621</td>\n",
              "      <td>3440.547621</td>\n",
              "      <td>0.0</td>\n",
              "      <td>0.0</td>\n",
              "      <td>0.0</td>\n",
              "      <td>321638.000000</td>\n",
              "    </tr>\n",
              "    <tr>\n",
              "      <th>8</th>\n",
              "      <td>2020-06-14</td>\n",
              "      <td>329590.658729</td>\n",
              "      <td>333042.999998</td>\n",
              "      <td>333043.000002</td>\n",
              "      <td>329590.658729</td>\n",
              "      <td>329590.658729</td>\n",
              "      <td>3452.341271</td>\n",
              "      <td>3452.341271</td>\n",
              "      <td>3452.341271</td>\n",
              "      <td>3452.341271</td>\n",
              "      <td>3452.341271</td>\n",
              "      <td>3452.341271</td>\n",
              "      <td>0.0</td>\n",
              "      <td>0.0</td>\n",
              "      <td>0.0</td>\n",
              "      <td>333043.000000</td>\n",
              "    </tr>\n",
              "    <tr>\n",
              "      <th>9</th>\n",
              "      <td>2020-06-15</td>\n",
              "      <td>342369.925275</td>\n",
              "      <td>343074.999999</td>\n",
              "      <td>343075.000001</td>\n",
              "      <td>342369.925275</td>\n",
              "      <td>342369.925275</td>\n",
              "      <td>705.074725</td>\n",
              "      <td>705.074725</td>\n",
              "      <td>705.074725</td>\n",
              "      <td>705.074725</td>\n",
              "      <td>705.074725</td>\n",
              "      <td>705.074725</td>\n",
              "      <td>0.0</td>\n",
              "      <td>0.0</td>\n",
              "      <td>0.0</td>\n",
              "      <td>343075.000000</td>\n",
              "    </tr>\n",
              "    <tr>\n",
              "      <th>10</th>\n",
              "      <td>2020-06-16</td>\n",
              "      <td>357895.620280</td>\n",
              "      <td>354160.999999</td>\n",
              "      <td>354161.000002</td>\n",
              "      <td>357895.620280</td>\n",
              "      <td>357895.620280</td>\n",
              "      <td>-3734.620280</td>\n",
              "      <td>-3734.620280</td>\n",
              "      <td>-3734.620280</td>\n",
              "      <td>-3734.620280</td>\n",
              "      <td>-3734.620280</td>\n",
              "      <td>-3734.620280</td>\n",
              "      <td>0.0</td>\n",
              "      <td>0.0</td>\n",
              "      <td>0.0</td>\n",
              "      <td>354161.000000</td>\n",
              "    </tr>\n",
              "    <tr>\n",
              "      <th>11</th>\n",
              "      <td>2020-06-17</td>\n",
              "      <td>369886.445479</td>\n",
              "      <td>367268.999999</td>\n",
              "      <td>367269.000002</td>\n",
              "      <td>369886.445479</td>\n",
              "      <td>369886.445479</td>\n",
              "      <td>-2617.445479</td>\n",
              "      <td>-2617.445479</td>\n",
              "      <td>-2617.445479</td>\n",
              "      <td>-2617.445479</td>\n",
              "      <td>-2617.445479</td>\n",
              "      <td>-2617.445479</td>\n",
              "      <td>0.0</td>\n",
              "      <td>0.0</td>\n",
              "      <td>0.0</td>\n",
              "      <td>367269.000000</td>\n",
              "    </tr>\n",
              "    <tr>\n",
              "      <th>12</th>\n",
              "      <td>2020-06-18</td>\n",
              "      <td>382689.447779</td>\n",
              "      <td>381097.999998</td>\n",
              "      <td>381098.000001</td>\n",
              "      <td>382689.447779</td>\n",
              "      <td>382689.447779</td>\n",
              "      <td>-1591.447779</td>\n",
              "      <td>-1591.447779</td>\n",
              "      <td>-1591.447779</td>\n",
              "      <td>-1591.447779</td>\n",
              "      <td>-1591.447779</td>\n",
              "      <td>-1591.447779</td>\n",
              "      <td>0.0</td>\n",
              "      <td>0.0</td>\n",
              "      <td>0.0</td>\n",
              "      <td>381098.000000</td>\n",
              "    </tr>\n",
              "    <tr>\n",
              "      <th>13</th>\n",
              "      <td>2020-06-19</td>\n",
              "      <td>395492.450079</td>\n",
              "      <td>395837.999998</td>\n",
              "      <td>395838.000001</td>\n",
              "      <td>395492.450079</td>\n",
              "      <td>395492.450079</td>\n",
              "      <td>345.549921</td>\n",
              "      <td>345.549921</td>\n",
              "      <td>345.549921</td>\n",
              "      <td>345.549921</td>\n",
              "      <td>345.549921</td>\n",
              "      <td>345.549921</td>\n",
              "      <td>0.0</td>\n",
              "      <td>0.0</td>\n",
              "      <td>0.0</td>\n",
              "      <td>395838.000000</td>\n",
              "    </tr>\n",
              "    <tr>\n",
              "      <th>14</th>\n",
              "      <td>2020-06-20</td>\n",
              "      <td>408295.452379</td>\n",
              "      <td>411735.999999</td>\n",
              "      <td>411736.000002</td>\n",
              "      <td>408295.452379</td>\n",
              "      <td>408295.452379</td>\n",
              "      <td>3440.547621</td>\n",
              "      <td>3440.547621</td>\n",
              "      <td>3440.547621</td>\n",
              "      <td>3440.547621</td>\n",
              "      <td>3440.547621</td>\n",
              "      <td>3440.547621</td>\n",
              "      <td>0.0</td>\n",
              "      <td>0.0</td>\n",
              "      <td>0.0</td>\n",
              "      <td>411736.000000</td>\n",
              "    </tr>\n",
              "    <tr>\n",
              "      <th>15</th>\n",
              "      <td>2020-06-21</td>\n",
              "      <td>421098.454679</td>\n",
              "      <td>423402.908720</td>\n",
              "      <td>425691.506527</td>\n",
              "      <td>419950.567448</td>\n",
              "      <td>422239.165255</td>\n",
              "      <td>3452.341271</td>\n",
              "      <td>3452.341271</td>\n",
              "      <td>3452.341271</td>\n",
              "      <td>3452.341271</td>\n",
              "      <td>3452.341271</td>\n",
              "      <td>3452.341271</td>\n",
              "      <td>0.0</td>\n",
              "      <td>0.0</td>\n",
              "      <td>0.0</td>\n",
              "      <td>424550.795951</td>\n",
              "    </tr>\n",
              "    <tr>\n",
              "      <th>16</th>\n",
              "      <td>2020-06-22</td>\n",
              "      <td>433901.456980</td>\n",
              "      <td>430962.557074</td>\n",
              "      <td>438872.112799</td>\n",
              "      <td>430257.482349</td>\n",
              "      <td>438167.038077</td>\n",
              "      <td>705.074725</td>\n",
              "      <td>705.074725</td>\n",
              "      <td>705.074725</td>\n",
              "      <td>705.074725</td>\n",
              "      <td>705.074725</td>\n",
              "      <td>705.074725</td>\n",
              "      <td>0.0</td>\n",
              "      <td>0.0</td>\n",
              "      <td>0.0</td>\n",
              "      <td>434606.531704</td>\n",
              "    </tr>\n",
              "    <tr>\n",
              "      <th>17</th>\n",
              "      <td>2020-06-23</td>\n",
              "      <td>446704.459280</td>\n",
              "      <td>435426.320727</td>\n",
              "      <td>451143.993990</td>\n",
              "      <td>439160.941008</td>\n",
              "      <td>454878.614270</td>\n",
              "      <td>-3734.620280</td>\n",
              "      <td>-3734.620280</td>\n",
              "      <td>-3734.620280</td>\n",
              "      <td>-3734.620280</td>\n",
              "      <td>-3734.620280</td>\n",
              "      <td>-3734.620280</td>\n",
              "      <td>0.0</td>\n",
              "      <td>0.0</td>\n",
              "      <td>0.0</td>\n",
              "      <td>442969.838999</td>\n",
              "    </tr>\n",
              "    <tr>\n",
              "      <th>18</th>\n",
              "      <td>2020-06-24</td>\n",
              "      <td>459507.461580</td>\n",
              "      <td>444113.164364</td>\n",
              "      <td>469167.286776</td>\n",
              "      <td>446730.609843</td>\n",
              "      <td>471784.732254</td>\n",
              "      <td>-2617.445479</td>\n",
              "      <td>-2617.445479</td>\n",
              "      <td>-2617.445479</td>\n",
              "      <td>-2617.445479</td>\n",
              "      <td>-2617.445479</td>\n",
              "      <td>-2617.445479</td>\n",
              "      <td>0.0</td>\n",
              "      <td>0.0</td>\n",
              "      <td>0.0</td>\n",
              "      <td>456890.016101</td>\n",
              "    </tr>\n",
              "    <tr>\n",
              "      <th>19</th>\n",
              "      <td>2020-06-25</td>\n",
              "      <td>472310.463880</td>\n",
              "      <td>453146.349441</td>\n",
              "      <td>488028.015756</td>\n",
              "      <td>454737.797218</td>\n",
              "      <td>489619.463535</td>\n",
              "      <td>-1591.447779</td>\n",
              "      <td>-1591.447779</td>\n",
              "      <td>-1591.447779</td>\n",
              "      <td>-1591.447779</td>\n",
              "      <td>-1591.447779</td>\n",
              "      <td>-1591.447779</td>\n",
              "      <td>0.0</td>\n",
              "      <td>0.0</td>\n",
              "      <td>0.0</td>\n",
              "      <td>470719.016101</td>\n",
              "    </tr>\n",
              "    <tr>\n",
              "      <th>20</th>\n",
              "      <td>2020-06-26</td>\n",
              "      <td>485113.466180</td>\n",
              "      <td>461800.156600</td>\n",
              "      <td>508161.601346</td>\n",
              "      <td>461454.606679</td>\n",
              "      <td>507816.051423</td>\n",
              "      <td>345.549921</td>\n",
              "      <td>345.549921</td>\n",
              "      <td>345.549921</td>\n",
              "      <td>345.549921</td>\n",
              "      <td>345.549921</td>\n",
              "      <td>345.549921</td>\n",
              "      <td>0.0</td>\n",
              "      <td>0.0</td>\n",
              "      <td>0.0</td>\n",
              "      <td>485459.016101</td>\n",
              "    </tr>\n",
              "    <tr>\n",
              "      <th>21</th>\n",
              "      <td>2020-06-27</td>\n",
              "      <td>497916.468480</td>\n",
              "      <td>471910.390653</td>\n",
              "      <td>529947.076074</td>\n",
              "      <td>468469.843033</td>\n",
              "      <td>526506.528454</td>\n",
              "      <td>3440.547621</td>\n",
              "      <td>3440.547621</td>\n",
              "      <td>3440.547621</td>\n",
              "      <td>3440.547621</td>\n",
              "      <td>3440.547621</td>\n",
              "      <td>3440.547621</td>\n",
              "      <td>0.0</td>\n",
              "      <td>0.0</td>\n",
              "      <td>0.0</td>\n",
              "      <td>501357.016101</td>\n",
              "    </tr>\n",
              "    <tr>\n",
              "      <th>22</th>\n",
              "      <td>2020-06-28</td>\n",
              "      <td>510719.470781</td>\n",
              "      <td>477648.705431</td>\n",
              "      <td>549137.201883</td>\n",
              "      <td>474196.364158</td>\n",
              "      <td>545684.860610</td>\n",
              "      <td>3452.341271</td>\n",
              "      <td>3452.341271</td>\n",
              "      <td>3452.341271</td>\n",
              "      <td>3452.341271</td>\n",
              "      <td>3452.341271</td>\n",
              "      <td>3452.341271</td>\n",
              "      <td>0.0</td>\n",
              "      <td>0.0</td>\n",
              "      <td>0.0</td>\n",
              "      <td>514171.812052</td>\n",
              "    </tr>\n",
              "    <tr>\n",
              "      <th>23</th>\n",
              "      <td>2020-06-29</td>\n",
              "      <td>523522.473081</td>\n",
              "      <td>480816.681730</td>\n",
              "      <td>565179.454658</td>\n",
              "      <td>480111.607003</td>\n",
              "      <td>564474.379933</td>\n",
              "      <td>705.074725</td>\n",
              "      <td>705.074725</td>\n",
              "      <td>705.074725</td>\n",
              "      <td>705.074725</td>\n",
              "      <td>705.074725</td>\n",
              "      <td>705.074725</td>\n",
              "      <td>0.0</td>\n",
              "      <td>0.0</td>\n",
              "      <td>0.0</td>\n",
              "      <td>524227.547806</td>\n",
              "    </tr>\n",
              "    <tr>\n",
              "      <th>24</th>\n",
              "      <td>2020-06-30</td>\n",
              "      <td>536325.475381</td>\n",
              "      <td>480173.552878</td>\n",
              "      <td>581315.861808</td>\n",
              "      <td>483908.173157</td>\n",
              "      <td>585050.482088</td>\n",
              "      <td>-3734.620280</td>\n",
              "      <td>-3734.620280</td>\n",
              "      <td>-3734.620280</td>\n",
              "      <td>-3734.620280</td>\n",
              "      <td>-3734.620280</td>\n",
              "      <td>-3734.620280</td>\n",
              "      <td>0.0</td>\n",
              "      <td>0.0</td>\n",
              "      <td>0.0</td>\n",
              "      <td>532590.855101</td>\n",
              "    </tr>\n",
              "    <tr>\n",
              "      <th>25</th>\n",
              "      <td>2020-07-01</td>\n",
              "      <td>549128.477681</td>\n",
              "      <td>485453.760453</td>\n",
              "      <td>603196.750226</td>\n",
              "      <td>488071.205931</td>\n",
              "      <td>605814.195702</td>\n",
              "      <td>-2617.445479</td>\n",
              "      <td>-2617.445479</td>\n",
              "      <td>-2617.445479</td>\n",
              "      <td>-2617.445479</td>\n",
              "      <td>-2617.445479</td>\n",
              "      <td>-2617.445479</td>\n",
              "      <td>0.0</td>\n",
              "      <td>0.0</td>\n",
              "      <td>0.0</td>\n",
              "      <td>546511.032203</td>\n",
              "    </tr>\n",
              "    <tr>\n",
              "      <th>26</th>\n",
              "      <td>2020-07-02</td>\n",
              "      <td>561931.479981</td>\n",
              "      <td>490537.537893</td>\n",
              "      <td>624950.963621</td>\n",
              "      <td>492128.985671</td>\n",
              "      <td>626542.411401</td>\n",
              "      <td>-1591.447779</td>\n",
              "      <td>-1591.447779</td>\n",
              "      <td>-1591.447779</td>\n",
              "      <td>-1591.447779</td>\n",
              "      <td>-1591.447779</td>\n",
              "      <td>-1591.447779</td>\n",
              "      <td>0.0</td>\n",
              "      <td>0.0</td>\n",
              "      <td>0.0</td>\n",
              "      <td>560340.032203</td>\n",
              "    </tr>\n",
              "    <tr>\n",
              "      <th>27</th>\n",
              "      <td>2020-07-03</td>\n",
              "      <td>574734.482282</td>\n",
              "      <td>496794.416229</td>\n",
              "      <td>650525.845731</td>\n",
              "      <td>496448.866309</td>\n",
              "      <td>650180.295809</td>\n",
              "      <td>345.549921</td>\n",
              "      <td>345.549921</td>\n",
              "      <td>345.549921</td>\n",
              "      <td>345.549921</td>\n",
              "      <td>345.549921</td>\n",
              "      <td>345.549921</td>\n",
              "      <td>0.0</td>\n",
              "      <td>0.0</td>\n",
              "      <td>0.0</td>\n",
              "      <td>575080.032203</td>\n",
              "    </tr>\n",
              "    <tr>\n",
              "      <th>28</th>\n",
              "      <td>2020-07-04</td>\n",
              "      <td>587537.484582</td>\n",
              "      <td>501729.563572</td>\n",
              "      <td>676397.333551</td>\n",
              "      <td>498289.015949</td>\n",
              "      <td>672956.785930</td>\n",
              "      <td>3440.547621</td>\n",
              "      <td>3440.547621</td>\n",
              "      <td>3440.547621</td>\n",
              "      <td>3440.547621</td>\n",
              "      <td>3440.547621</td>\n",
              "      <td>3440.547621</td>\n",
              "      <td>0.0</td>\n",
              "      <td>0.0</td>\n",
              "      <td>0.0</td>\n",
              "      <td>590978.032203</td>\n",
              "    </tr>\n",
              "    <tr>\n",
              "      <th>29</th>\n",
              "      <td>2020-07-05</td>\n",
              "      <td>600340.486882</td>\n",
              "      <td>505327.276526</td>\n",
              "      <td>697386.540591</td>\n",
              "      <td>501874.935255</td>\n",
              "      <td>693934.199319</td>\n",
              "      <td>3452.341271</td>\n",
              "      <td>3452.341271</td>\n",
              "      <td>3452.341271</td>\n",
              "      <td>3452.341271</td>\n",
              "      <td>3452.341271</td>\n",
              "      <td>3452.341271</td>\n",
              "      <td>0.0</td>\n",
              "      <td>0.0</td>\n",
              "      <td>0.0</td>\n",
              "      <td>603792.828153</td>\n",
              "    </tr>\n",
              "  </tbody>\n",
              "</table>\n",
              "</div>"
            ],
            "text/plain": [
              "           ds          trend  ...  multiplicative_terms_upper           yhat\n",
              "0  2020-06-06  243162.452379  ...                         0.0  246603.000000\n",
              "1  2020-06-07  254032.658729  ...                         0.0  257485.000000\n",
              "2  2020-06-08  265315.925275  ...                         0.0  266021.000000\n",
              "3  2020-06-09  279736.620280  ...                         0.0  276002.000000\n",
              "4  2020-06-10  289775.445479  ...                         0.0  287158.000000\n",
              "5  2020-06-11  299884.447779  ...                         0.0  298293.000000\n",
              "6  2020-06-12  309253.450079  ...                         0.0  309599.000000\n",
              "7  2020-06-13  318197.452379  ...                         0.0  321638.000000\n",
              "8  2020-06-14  329590.658729  ...                         0.0  333043.000000\n",
              "9  2020-06-15  342369.925275  ...                         0.0  343075.000000\n",
              "10 2020-06-16  357895.620280  ...                         0.0  354161.000000\n",
              "11 2020-06-17  369886.445479  ...                         0.0  367269.000000\n",
              "12 2020-06-18  382689.447779  ...                         0.0  381098.000000\n",
              "13 2020-06-19  395492.450079  ...                         0.0  395838.000000\n",
              "14 2020-06-20  408295.452379  ...                         0.0  411736.000000\n",
              "15 2020-06-21  421098.454679  ...                         0.0  424550.795951\n",
              "16 2020-06-22  433901.456980  ...                         0.0  434606.531704\n",
              "17 2020-06-23  446704.459280  ...                         0.0  442969.838999\n",
              "18 2020-06-24  459507.461580  ...                         0.0  456890.016101\n",
              "19 2020-06-25  472310.463880  ...                         0.0  470719.016101\n",
              "20 2020-06-26  485113.466180  ...                         0.0  485459.016101\n",
              "21 2020-06-27  497916.468480  ...                         0.0  501357.016101\n",
              "22 2020-06-28  510719.470781  ...                         0.0  514171.812052\n",
              "23 2020-06-29  523522.473081  ...                         0.0  524227.547806\n",
              "24 2020-06-30  536325.475381  ...                         0.0  532590.855101\n",
              "25 2020-07-01  549128.477681  ...                         0.0  546511.032203\n",
              "26 2020-07-02  561931.479981  ...                         0.0  560340.032203\n",
              "27 2020-07-03  574734.482282  ...                         0.0  575080.032203\n",
              "28 2020-07-04  587537.484582  ...                         0.0  590978.032203\n",
              "29 2020-07-05  600340.486882  ...                         0.0  603792.828153\n",
              "\n",
              "[30 rows x 16 columns]"
            ]
          },
          "execution_count": 55,
          "metadata": {
            "tags": []
          },
          "output_type": "execute_result"
        }
      ],
      "source": [
        "cov51_forecast.tail(30)"
      ]
    },
    {
      "cell_type": "code",
      "execution_count": 63,
      "metadata": {
        "colab": {
          "base_uri": "https://localhost:8080/",
          "height": 507
        },
        "colab_type": "code",
        "id": "n4QY0b_I3qll",
        "outputId": "1a9492e5-454b-4f8d-e861-8ec712034928"
      },
      "outputs": [
        {
          "name": "stderr",
          "output_type": "stream",
          "text": [
            "INFO:fbprophet:Disabling yearly seasonality. Run prophet with yearly_seasonality=True to override this.\n",
            "INFO:fbprophet:Disabling daily seasonality. Run prophet with daily_seasonality=True to override this.\n",
            "INFO:fbprophet:n_changepoints greater than number of observations. Using 11.\n"
          ]
        },
        {
          "data": {
            "image/png": "[encoded data removed]",
            "text/plain": [
              "<Figure size 720x432 with 1 Axes>"
            ]
          },
          "metadata": {
            "tags": []
          },
          "output_type": "display_data"
        }
      ],
      "source": [
        "covtr=cov.iloc[-15:]\n",
        "# Prophet requires columns ds (Date) and y (value)\n",
        "cov_tr=covtr.rename(columns={'Date': 'ds', 'Total Recovered': 'y'},errors=\"raise\")\n",
        "# Make the prophet model and fit on the data\n",
        "cov61_prophet = fbprophet.Prophet(changepoint_prior_scale=0.15)\n",
        "cov61_prophet.fit(cov_tc)\n",
        "\n",
        "# Make a future dataframe for 15 days\n",
        "cov61_forecast = cov61_prophet.make_future_dataframe(periods=15, freq='D')\n",
        "# Make predictions\n",
        "cov61_forecast = cov61_prophet.predict(cov61_forecast)\n",
        "\n",
        "cov61_prophet.plot(cov61_forecast, xlabel = 'Date', ylabel = 'Total Confirmed')\n",
        "plt.plot(cov['Date'],cov['Total Recovered'],color=\"green\")\n",
        "plt.title('Total Recovered Graph');"
      ]
    },
    {
      "cell_type": "code",
      "execution_count": 61,
      "metadata": {
        "colab": {
          "base_uri": "https://localhost:8080/",
          "height": 34
        },
        "colab_type": "code",
        "id": "s5TmLAFi6hHu",
        "outputId": "c2125bfe-de37-4e72-84e8-e40df47e8022"
      },
      "outputs": [
        {
          "name": "stdout",
          "output_type": "stream",
          "text": [
            "5.18533971977917e-09\n"
          ]
        }
      ],
      "source": [
        "cov62_forecast=cov61_forecast.iloc[0:15]\n",
        "rms = sqrt(mean_squared_error(covtc['Total Recovered'], cov62_forecast.yhat))\n",
        "print(rms)"
      ]
    },
    {
      "cell_type": "code",
      "execution_count": 62,
      "metadata": {
        "colab": {
          "base_uri": "https://localhost:8080/",
          "height": 995
        },
        "colab_type": "code",
        "id": "xyq3NvAk7CKO",
        "outputId": "c370a2b0-dd82-4854-deb9-8ed4a188b1f7"
      },
      "outputs": [
        {
          "data": {
            "text/html": [
              "<div>\n",
              "<style scoped>\n",
              "    .dataframe tbody tr th:only-of-type {\n",
              "        vertical-align: middle;\n",
              "    }\n",
              "\n",
              "    .dataframe tbody tr th {\n",
              "        vertical-align: top;\n",
              "    }\n",
              "\n",
              "    .dataframe thead th {\n",
              "        text-align: right;\n",
              "    }\n",
              "</style>\n",
              "<table border=\"1\" class=\"dataframe\">\n",
              "  <thead>\n",
              "    <tr style=\"text-align: right;\">\n",
              "      <th></th>\n",
              "      <th>ds</th>\n",
              "      <th>trend</th>\n",
              "      <th>yhat_lower</th>\n",
              "      <th>yhat_upper</th>\n",
              "      <th>trend_lower</th>\n",
              "      <th>trend_upper</th>\n",
              "      <th>additive_terms</th>\n",
              "      <th>additive_terms_lower</th>\n",
              "      <th>additive_terms_upper</th>\n",
              "      <th>weekly</th>\n",
              "      <th>weekly_lower</th>\n",
              "      <th>weekly_upper</th>\n",
              "      <th>multiplicative_terms</th>\n",
              "      <th>multiplicative_terms_lower</th>\n",
              "      <th>multiplicative_terms_upper</th>\n",
              "      <th>yhat</th>\n",
              "    </tr>\n",
              "  </thead>\n",
              "  <tbody>\n",
              "    <tr>\n",
              "      <th>10</th>\n",
              "      <td>2020-06-16</td>\n",
              "      <td>185904.049333</td>\n",
              "      <td>187549.999999</td>\n",
              "      <td>187550.000001</td>\n",
              "      <td>185904.049333</td>\n",
              "      <td>185904.049333</td>\n",
              "      <td>1645.950667</td>\n",
              "      <td>1645.950667</td>\n",
              "      <td>1645.950667</td>\n",
              "      <td>1645.950667</td>\n",
              "      <td>1645.950667</td>\n",
              "      <td>1645.950667</td>\n",
              "      <td>0.0</td>\n",
              "      <td>0.0</td>\n",
              "      <td>0.0</td>\n",
              "      <td>187550.000000</td>\n",
              "    </tr>\n",
              "    <tr>\n",
              "      <th>11</th>\n",
              "      <td>2020-06-17</td>\n",
              "      <td>194241.307894</td>\n",
              "      <td>194439.999999</td>\n",
              "      <td>194440.000001</td>\n",
              "      <td>194241.307894</td>\n",
              "      <td>194241.307894</td>\n",
              "      <td>198.692106</td>\n",
              "      <td>198.692106</td>\n",
              "      <td>198.692106</td>\n",
              "      <td>198.692106</td>\n",
              "      <td>198.692106</td>\n",
              "      <td>198.692106</td>\n",
              "      <td>0.0</td>\n",
              "      <td>0.0</td>\n",
              "      <td>0.0</td>\n",
              "      <td>194440.000000</td>\n",
              "    </tr>\n",
              "    <tr>\n",
              "      <th>12</th>\n",
              "      <td>2020-06-18</td>\n",
              "      <td>205886.068110</td>\n",
              "      <td>205180.999999</td>\n",
              "      <td>205181.000001</td>\n",
              "      <td>205886.068110</td>\n",
              "      <td>205886.068110</td>\n",
              "      <td>-705.068110</td>\n",
              "      <td>-705.068110</td>\n",
              "      <td>-705.068110</td>\n",
              "      <td>-705.068110</td>\n",
              "      <td>-705.068110</td>\n",
              "      <td>-705.068110</td>\n",
              "      <td>0.0</td>\n",
              "      <td>0.0</td>\n",
              "      <td>0.0</td>\n",
              "      <td>205181.000000</td>\n",
              "    </tr>\n",
              "    <tr>\n",
              "      <th>13</th>\n",
              "      <td>2020-06-19</td>\n",
              "      <td>217530.828326</td>\n",
              "      <td>214209.999999</td>\n",
              "      <td>214210.000001</td>\n",
              "      <td>217530.828326</td>\n",
              "      <td>217530.828326</td>\n",
              "      <td>-3320.828326</td>\n",
              "      <td>-3320.828326</td>\n",
              "      <td>-3320.828326</td>\n",
              "      <td>-3320.828326</td>\n",
              "      <td>-3320.828326</td>\n",
              "      <td>-3320.828326</td>\n",
              "      <td>0.0</td>\n",
              "      <td>0.0</td>\n",
              "      <td>0.0</td>\n",
              "      <td>214210.000000</td>\n",
              "    </tr>\n",
              "    <tr>\n",
              "      <th>14</th>\n",
              "      <td>2020-06-20</td>\n",
              "      <td>229175.588543</td>\n",
              "      <td>228181.999999</td>\n",
              "      <td>228182.000001</td>\n",
              "      <td>229175.588543</td>\n",
              "      <td>229175.588543</td>\n",
              "      <td>-993.588543</td>\n",
              "      <td>-993.588543</td>\n",
              "      <td>-993.588543</td>\n",
              "      <td>-993.588543</td>\n",
              "      <td>-993.588543</td>\n",
              "      <td>-993.588543</td>\n",
              "      <td>0.0</td>\n",
              "      <td>0.0</td>\n",
              "      <td>0.0</td>\n",
              "      <td>228182.000000</td>\n",
              "    </tr>\n",
              "    <tr>\n",
              "      <th>15</th>\n",
              "      <td>2020-06-21</td>\n",
              "      <td>240820.348759</td>\n",
              "      <td>240606.590938</td>\n",
              "      <td>242489.251792</td>\n",
              "      <td>239925.833434</td>\n",
              "      <td>241808.494287</td>\n",
              "      <td>680.757504</td>\n",
              "      <td>680.757504</td>\n",
              "      <td>680.757504</td>\n",
              "      <td>680.757504</td>\n",
              "      <td>680.757504</td>\n",
              "      <td>680.757504</td>\n",
              "      <td>0.0</td>\n",
              "      <td>0.0</td>\n",
              "      <td>0.0</td>\n",
              "      <td>241501.106262</td>\n",
              "    </tr>\n",
              "    <tr>\n",
              "      <th>16</th>\n",
              "      <td>2020-06-22</td>\n",
              "      <td>252465.108975</td>\n",
              "      <td>251682.221784</td>\n",
              "      <td>258536.862903</td>\n",
              "      <td>249188.137082</td>\n",
              "      <td>256042.778200</td>\n",
              "      <td>2494.084702</td>\n",
              "      <td>2494.084702</td>\n",
              "      <td>2494.084702</td>\n",
              "      <td>2494.084702</td>\n",
              "      <td>2494.084702</td>\n",
              "      <td>2494.084702</td>\n",
              "      <td>0.0</td>\n",
              "      <td>0.0</td>\n",
              "      <td>0.0</td>\n",
              "      <td>254959.193677</td>\n",
              "    </tr>\n",
              "    <tr>\n",
              "      <th>17</th>\n",
              "      <td>2020-06-23</td>\n",
              "      <td>264109.869191</td>\n",
              "      <td>258410.273377</td>\n",
              "      <td>272942.830493</td>\n",
              "      <td>256764.322712</td>\n",
              "      <td>271296.879826</td>\n",
              "      <td>1645.950667</td>\n",
              "      <td>1645.950667</td>\n",
              "      <td>1645.950667</td>\n",
              "      <td>1645.950667</td>\n",
              "      <td>1645.950667</td>\n",
              "      <td>1645.950667</td>\n",
              "      <td>0.0</td>\n",
              "      <td>0.0</td>\n",
              "      <td>0.0</td>\n",
              "      <td>265755.819858</td>\n",
              "    </tr>\n",
              "    <tr>\n",
              "      <th>18</th>\n",
              "      <td>2020-06-24</td>\n",
              "      <td>275754.629407</td>\n",
              "      <td>264111.351949</td>\n",
              "      <td>287329.718172</td>\n",
              "      <td>263912.659843</td>\n",
              "      <td>287131.026066</td>\n",
              "      <td>198.692106</td>\n",
              "      <td>198.692106</td>\n",
              "      <td>198.692106</td>\n",
              "      <td>198.692106</td>\n",
              "      <td>198.692106</td>\n",
              "      <td>198.692106</td>\n",
              "      <td>0.0</td>\n",
              "      <td>0.0</td>\n",
              "      <td>0.0</td>\n",
              "      <td>275953.321513</td>\n",
              "    </tr>\n",
              "    <tr>\n",
              "      <th>19</th>\n",
              "      <td>2020-06-25</td>\n",
              "      <td>287399.389623</td>\n",
              "      <td>268767.737087</td>\n",
              "      <td>303201.310758</td>\n",
              "      <td>269472.805198</td>\n",
              "      <td>303906.378868</td>\n",
              "      <td>-705.068110</td>\n",
              "      <td>-705.068110</td>\n",
              "      <td>-705.068110</td>\n",
              "      <td>-705.068110</td>\n",
              "      <td>-705.068110</td>\n",
              "      <td>-705.068110</td>\n",
              "      <td>0.0</td>\n",
              "      <td>0.0</td>\n",
              "      <td>0.0</td>\n",
              "      <td>286694.321513</td>\n",
              "    </tr>\n",
              "    <tr>\n",
              "      <th>20</th>\n",
              "      <td>2020-06-26</td>\n",
              "      <td>299044.149840</td>\n",
              "      <td>272095.213152</td>\n",
              "      <td>318379.163847</td>\n",
              "      <td>275416.041477</td>\n",
              "      <td>321699.992173</td>\n",
              "      <td>-3320.828326</td>\n",
              "      <td>-3320.828326</td>\n",
              "      <td>-3320.828326</td>\n",
              "      <td>-3320.828326</td>\n",
              "      <td>-3320.828326</td>\n",
              "      <td>-3320.828326</td>\n",
              "      <td>0.0</td>\n",
              "      <td>0.0</td>\n",
              "      <td>0.0</td>\n",
              "      <td>295723.321513</td>\n",
              "    </tr>\n",
              "    <tr>\n",
              "      <th>21</th>\n",
              "      <td>2020-06-27</td>\n",
              "      <td>310688.910056</td>\n",
              "      <td>279593.687071</td>\n",
              "      <td>338436.682994</td>\n",
              "      <td>280587.275612</td>\n",
              "      <td>339430.271537</td>\n",
              "      <td>-993.588543</td>\n",
              "      <td>-993.588543</td>\n",
              "      <td>-993.588543</td>\n",
              "      <td>-993.588543</td>\n",
              "      <td>-993.588543</td>\n",
              "      <td>-993.588543</td>\n",
              "      <td>0.0</td>\n",
              "      <td>0.0</td>\n",
              "      <td>0.0</td>\n",
              "      <td>309695.321513</td>\n",
              "    </tr>\n",
              "    <tr>\n",
              "      <th>22</th>\n",
              "      <td>2020-06-28</td>\n",
              "      <td>322333.670272</td>\n",
              "      <td>286552.122730</td>\n",
              "      <td>358899.526720</td>\n",
              "      <td>285871.365225</td>\n",
              "      <td>358218.769217</td>\n",
              "      <td>680.757504</td>\n",
              "      <td>680.757504</td>\n",
              "      <td>680.757504</td>\n",
              "      <td>680.757504</td>\n",
              "      <td>680.757504</td>\n",
              "      <td>680.757504</td>\n",
              "      <td>0.0</td>\n",
              "      <td>0.0</td>\n",
              "      <td>0.0</td>\n",
              "      <td>323014.427776</td>\n",
              "    </tr>\n",
              "    <tr>\n",
              "      <th>23</th>\n",
              "      <td>2020-06-29</td>\n",
              "      <td>333978.430488</td>\n",
              "      <td>292340.131445</td>\n",
              "      <td>379175.948544</td>\n",
              "      <td>289846.046743</td>\n",
              "      <td>376681.863841</td>\n",
              "      <td>2494.084702</td>\n",
              "      <td>2494.084702</td>\n",
              "      <td>2494.084702</td>\n",
              "      <td>2494.084702</td>\n",
              "      <td>2494.084702</td>\n",
              "      <td>2494.084702</td>\n",
              "      <td>0.0</td>\n",
              "      <td>0.0</td>\n",
              "      <td>0.0</td>\n",
              "      <td>336472.515190</td>\n",
              "    </tr>\n",
              "    <tr>\n",
              "      <th>24</th>\n",
              "      <td>2020-06-30</td>\n",
              "      <td>345623.190704</td>\n",
              "      <td>295427.317573</td>\n",
              "      <td>397820.000984</td>\n",
              "      <td>293781.366905</td>\n",
              "      <td>396174.050317</td>\n",
              "      <td>1645.950667</td>\n",
              "      <td>1645.950667</td>\n",
              "      <td>1645.950667</td>\n",
              "      <td>1645.950667</td>\n",
              "      <td>1645.950667</td>\n",
              "      <td>1645.950667</td>\n",
              "      <td>0.0</td>\n",
              "      <td>0.0</td>\n",
              "      <td>0.0</td>\n",
              "      <td>347269.141371</td>\n",
              "    </tr>\n",
              "    <tr>\n",
              "      <th>25</th>\n",
              "      <td>2020-07-01</td>\n",
              "      <td>357267.950920</td>\n",
              "      <td>296996.147808</td>\n",
              "      <td>415492.746963</td>\n",
              "      <td>296797.455703</td>\n",
              "      <td>415294.054858</td>\n",
              "      <td>198.692106</td>\n",
              "      <td>198.692106</td>\n",
              "      <td>198.692106</td>\n",
              "      <td>198.692106</td>\n",
              "      <td>198.692106</td>\n",
              "      <td>198.692106</td>\n",
              "      <td>0.0</td>\n",
              "      <td>0.0</td>\n",
              "      <td>0.0</td>\n",
              "      <td>357466.643026</td>\n",
              "    </tr>\n",
              "    <tr>\n",
              "      <th>26</th>\n",
              "      <td>2020-07-02</td>\n",
              "      <td>368912.711137</td>\n",
              "      <td>298583.900402</td>\n",
              "      <td>434596.547881</td>\n",
              "      <td>299288.968513</td>\n",
              "      <td>435301.615992</td>\n",
              "      <td>-705.068110</td>\n",
              "      <td>-705.068110</td>\n",
              "      <td>-705.068110</td>\n",
              "      <td>-705.068110</td>\n",
              "      <td>-705.068110</td>\n",
              "      <td>-705.068110</td>\n",
              "      <td>0.0</td>\n",
              "      <td>0.0</td>\n",
              "      <td>0.0</td>\n",
              "      <td>368207.643026</td>\n",
              "    </tr>\n",
              "    <tr>\n",
              "      <th>27</th>\n",
              "      <td>2020-07-03</td>\n",
              "      <td>380557.471353</td>\n",
              "      <td>299066.624316</td>\n",
              "      <td>453156.261889</td>\n",
              "      <td>302387.452641</td>\n",
              "      <td>456477.090215</td>\n",
              "      <td>-3320.828326</td>\n",
              "      <td>-3320.828326</td>\n",
              "      <td>-3320.828326</td>\n",
              "      <td>-3320.828326</td>\n",
              "      <td>-3320.828326</td>\n",
              "      <td>-3320.828326</td>\n",
              "      <td>0.0</td>\n",
              "      <td>0.0</td>\n",
              "      <td>0.0</td>\n",
              "      <td>377236.643026</td>\n",
              "    </tr>\n",
              "    <tr>\n",
              "      <th>28</th>\n",
              "      <td>2020-07-04</td>\n",
              "      <td>392202.231569</td>\n",
              "      <td>301779.623745</td>\n",
              "      <td>476825.164598</td>\n",
              "      <td>302773.212287</td>\n",
              "      <td>477818.753141</td>\n",
              "      <td>-993.588543</td>\n",
              "      <td>-993.588543</td>\n",
              "      <td>-993.588543</td>\n",
              "      <td>-993.588543</td>\n",
              "      <td>-993.588543</td>\n",
              "      <td>-993.588543</td>\n",
              "      <td>0.0</td>\n",
              "      <td>0.0</td>\n",
              "      <td>0.0</td>\n",
              "      <td>391208.643026</td>\n",
              "    </tr>\n",
              "    <tr>\n",
              "      <th>29</th>\n",
              "      <td>2020-07-05</td>\n",
              "      <td>403846.991785</td>\n",
              "      <td>304270.088379</td>\n",
              "      <td>499819.877224</td>\n",
              "      <td>303589.330875</td>\n",
              "      <td>499139.119720</td>\n",
              "      <td>680.757504</td>\n",
              "      <td>680.757504</td>\n",
              "      <td>680.757504</td>\n",
              "      <td>680.757504</td>\n",
              "      <td>680.757504</td>\n",
              "      <td>680.757504</td>\n",
              "      <td>0.0</td>\n",
              "      <td>0.0</td>\n",
              "      <td>0.0</td>\n",
              "      <td>404527.749289</td>\n",
              "    </tr>\n",
              "  </tbody>\n",
              "</table>\n",
              "</div>"
            ],
            "text/plain": [
              "           ds          trend  ...  multiplicative_terms_upper           yhat\n",
              "10 2020-06-16  185904.049333  ...                         0.0  187550.000000\n",
              "11 2020-06-17  194241.307894  ...                         0.0  194440.000000\n",
              "12 2020-06-18  205886.068110  ...                         0.0  205181.000000\n",
              "13 2020-06-19  217530.828326  ...                         0.0  214210.000000\n",
              "14 2020-06-20  229175.588543  ...                         0.0  228182.000000\n",
              "15 2020-06-21  240820.348759  ...                         0.0  241501.106262\n",
              "16 2020-06-22  252465.108975  ...                         0.0  254959.193677\n",
              "17 2020-06-23  264109.869191  ...                         0.0  265755.819858\n",
              "18 2020-06-24  275754.629407  ...                         0.0  275953.321513\n",
              "19 2020-06-25  287399.389623  ...                         0.0  286694.321513\n",
              "20 2020-06-26  299044.149840  ...                         0.0  295723.321513\n",
              "21 2020-06-27  310688.910056  ...                         0.0  309695.321513\n",
              "22 2020-06-28  322333.670272  ...                         0.0  323014.427776\n",
              "23 2020-06-29  333978.430488  ...                         0.0  336472.515190\n",
              "24 2020-06-30  345623.190704  ...                         0.0  347269.141371\n",
              "25 2020-07-01  357267.950920  ...                         0.0  357466.643026\n",
              "26 2020-07-02  368912.711137  ...                         0.0  368207.643026\n",
              "27 2020-07-03  380557.471353  ...                         0.0  377236.643026\n",
              "28 2020-07-04  392202.231569  ...                         0.0  391208.643026\n",
              "29 2020-07-05  403846.991785  ...                         0.0  404527.749289\n",
              "\n",
              "[20 rows x 16 columns]"
            ]
          },
          "execution_count": 62,
          "metadata": {
            "tags": []
          },
          "output_type": "execute_result"
        }
      ],
      "source": [
        "cov61_forecast.tail(20)"
      ]
    },
    {
      "cell_type": "code",
      "execution_count": 74,
      "metadata": {
        "colab": {
          "base_uri": "https://localhost:8080/",
          "height": 507
        },
        "colab_type": "code",
        "id": "MAYLOPru7HPO",
        "outputId": "87c630c7-e27f-4b04-e49e-698046630526"
      },
      "outputs": [
        {
          "name": "stderr",
          "output_type": "stream",
          "text": [
            "INFO:fbprophet:Disabling yearly seasonality. Run prophet with yearly_seasonality=True to override this.\n",
            "INFO:fbprophet:Disabling daily seasonality. Run prophet with daily_seasonality=True to override this.\n",
            "INFO:fbprophet:n_changepoints greater than number of observations. Using 11.\n"
          ]
        },
        {
          "data": {
            "image/png": "[encoded data removed]",
            "text/plain": [
              "<Figure size 720x432 with 1 Axes>"
            ]
          },
          "metadata": {
            "tags": []
          },
          "output_type": "display_data"
        }
      ],
      "source": [
        "covtd=cov.iloc[-15:]\n",
        "# Prophet requires columns ds (Date) and y (value)\n",
        "cov_td=covtd.rename(columns={'Date': 'ds', 'Total Deceased': 'y'},errors=\"raise\")\n",
        "# Make the prophet model and fit on the data\n",
        "cov71_prophet = fbprophet.Prophet(changepoint_prior_scale=0.15)\n",
        "cov71_prophet.fit(cov_td)\n",
        "\n",
        "# Make a future dataframe for 15 days\n",
        "cov71_forecast = cov71_prophet.make_future_dataframe(periods=15, freq='D')\n",
        "# Make predictions\n",
        "cov71_forecast = cov71_prophet.predict(cov71_forecast)\n",
        "\n",
        "cov71_prophet.plot(cov71_forecast, xlabel = 'Date', ylabel = 'Total Deceased')\n",
        "plt.plot(cov['Date'],cov['Total Deceased'],color='red')\n",
        "plt.title('Total Deceased Graph');"
      ]
    },
    {
      "cell_type": "code",
      "execution_count": 73,
      "metadata": {
        "colab": {
          "base_uri": "https://localhost:8080/",
          "height": 34
        },
        "colab_type": "code",
        "id": "pkSzzf6K7-7x",
        "outputId": "2f635e53-e0fb-4a48-f141-72309b22e9c3"
      },
      "outputs": [
        {
          "name": "stdout",
          "output_type": "stream",
          "text": [
            "166.905924651746\n"
          ]
        }
      ],
      "source": [
        "cov72_forecast=cov71_forecast.iloc[0:15]\n",
        "rms = sqrt(mean_squared_error(covtd['Total Deceased'], cov72_forecast.yhat))\n",
        "print(rms)"
      ]
    },
    {
      "cell_type": "code",
      "execution_count": 83,
      "metadata": {
        "colab": {
          "base_uri": "https://localhost:8080/",
          "height": 995
        },
        "colab_type": "code",
        "id": "bqFuHIna8Rjm",
        "outputId": "185ff14b-ec36-4490-b75a-f8faeb14e35f"
      },
      "outputs": [
        {
          "data": {
            "text/html": [
              "<div>\n",
              "<style scoped>\n",
              "    .dataframe tbody tr th:only-of-type {\n",
              "        vertical-align: middle;\n",
              "    }\n",
              "\n",
              "    .dataframe tbody tr th {\n",
              "        vertical-align: top;\n",
              "    }\n",
              "\n",
              "    .dataframe thead th {\n",
              "        text-align: right;\n",
              "    }\n",
              "</style>\n",
              "<table border=\"1\" class=\"dataframe\">\n",
              "  <thead>\n",
              "    <tr style=\"text-align: right;\">\n",
              "      <th></th>\n",
              "      <th>ds</th>\n",
              "      <th>trend</th>\n",
              "      <th>yhat_lower</th>\n",
              "      <th>yhat_upper</th>\n",
              "      <th>trend_lower</th>\n",
              "      <th>trend_upper</th>\n",
              "      <th>additive_terms</th>\n",
              "      <th>additive_terms_lower</th>\n",
              "      <th>additive_terms_upper</th>\n",
              "      <th>weekly</th>\n",
              "      <th>weekly_lower</th>\n",
              "      <th>weekly_upper</th>\n",
              "      <th>multiplicative_terms</th>\n",
              "      <th>multiplicative_terms_lower</th>\n",
              "      <th>multiplicative_terms_upper</th>\n",
              "      <th>yhat</th>\n",
              "    </tr>\n",
              "  </thead>\n",
              "  <tbody>\n",
              "    <tr>\n",
              "      <th>10</th>\n",
              "      <td>2020-06-16</td>\n",
              "      <td>11191.742406</td>\n",
              "      <td>11406.220627</td>\n",
              "      <td>11833.979018</td>\n",
              "      <td>11191.742406</td>\n",
              "      <td>11191.742406</td>\n",
              "      <td>421.857278</td>\n",
              "      <td>421.857278</td>\n",
              "      <td>421.857278</td>\n",
              "      <td>421.857278</td>\n",
              "      <td>421.857278</td>\n",
              "      <td>421.857278</td>\n",
              "      <td>0.0</td>\n",
              "      <td>0.0</td>\n",
              "      <td>0.0</td>\n",
              "      <td>11613.599684</td>\n",
              "    </tr>\n",
              "    <tr>\n",
              "      <th>11</th>\n",
              "      <td>2020-06-17</td>\n",
              "      <td>11796.944481</td>\n",
              "      <td>12001.437979</td>\n",
              "      <td>12423.250618</td>\n",
              "      <td>11796.944481</td>\n",
              "      <td>11796.944481</td>\n",
              "      <td>424.799768</td>\n",
              "      <td>424.799768</td>\n",
              "      <td>424.799768</td>\n",
              "      <td>424.799768</td>\n",
              "      <td>424.799768</td>\n",
              "      <td>424.799768</td>\n",
              "      <td>0.0</td>\n",
              "      <td>0.0</td>\n",
              "      <td>0.0</td>\n",
              "      <td>12221.744250</td>\n",
              "    </tr>\n",
              "    <tr>\n",
              "      <th>12</th>\n",
              "      <td>2020-06-18</td>\n",
              "      <td>12402.146550</td>\n",
              "      <td>12392.352273</td>\n",
              "      <td>12829.794541</td>\n",
              "      <td>12402.146550</td>\n",
              "      <td>12402.146550</td>\n",
              "      <td>208.350124</td>\n",
              "      <td>208.350124</td>\n",
              "      <td>208.350124</td>\n",
              "      <td>208.350124</td>\n",
              "      <td>208.350124</td>\n",
              "      <td>208.350124</td>\n",
              "      <td>0.0</td>\n",
              "      <td>0.0</td>\n",
              "      <td>0.0</td>\n",
              "      <td>12610.496673</td>\n",
              "    </tr>\n",
              "    <tr>\n",
              "      <th>13</th>\n",
              "      <td>2020-06-19</td>\n",
              "      <td>13007.348618</td>\n",
              "      <td>12780.670219</td>\n",
              "      <td>13215.260962</td>\n",
              "      <td>13007.348618</td>\n",
              "      <td>13007.348618</td>\n",
              "      <td>-0.601239</td>\n",
              "      <td>-0.601239</td>\n",
              "      <td>-0.601239</td>\n",
              "      <td>-0.601239</td>\n",
              "      <td>-0.601239</td>\n",
              "      <td>-0.601239</td>\n",
              "      <td>0.0</td>\n",
              "      <td>0.0</td>\n",
              "      <td>0.0</td>\n",
              "      <td>13006.747379</td>\n",
              "    </tr>\n",
              "    <tr>\n",
              "      <th>14</th>\n",
              "      <td>2020-06-20</td>\n",
              "      <td>13612.550686</td>\n",
              "      <td>13051.828749</td>\n",
              "      <td>13490.506454</td>\n",
              "      <td>13612.550686</td>\n",
              "      <td>13612.550686</td>\n",
              "      <td>-327.316498</td>\n",
              "      <td>-327.316498</td>\n",
              "      <td>-327.316498</td>\n",
              "      <td>-327.316498</td>\n",
              "      <td>-327.316498</td>\n",
              "      <td>-327.316498</td>\n",
              "      <td>0.0</td>\n",
              "      <td>0.0</td>\n",
              "      <td>0.0</td>\n",
              "      <td>13285.234188</td>\n",
              "    </tr>\n",
              "    <tr>\n",
              "      <th>15</th>\n",
              "      <td>2020-06-21</td>\n",
              "      <td>14217.752755</td>\n",
              "      <td>13646.438595</td>\n",
              "      <td>14087.107029</td>\n",
              "      <td>14191.905620</td>\n",
              "      <td>14245.189867</td>\n",
              "      <td>-357.329688</td>\n",
              "      <td>-357.329688</td>\n",
              "      <td>-357.329688</td>\n",
              "      <td>-357.329688</td>\n",
              "      <td>-357.329688</td>\n",
              "      <td>-357.329688</td>\n",
              "      <td>0.0</td>\n",
              "      <td>0.0</td>\n",
              "      <td>0.0</td>\n",
              "      <td>13860.423067</td>\n",
              "    </tr>\n",
              "    <tr>\n",
              "      <th>16</th>\n",
              "      <td>2020-06-22</td>\n",
              "      <td>14822.954823</td>\n",
              "      <td>14217.740947</td>\n",
              "      <td>14697.785386</td>\n",
              "      <td>14729.125159</td>\n",
              "      <td>14929.133128</td>\n",
              "      <td>-369.759745</td>\n",
              "      <td>-369.759745</td>\n",
              "      <td>-369.759745</td>\n",
              "      <td>-369.759745</td>\n",
              "      <td>-369.759745</td>\n",
              "      <td>-369.759745</td>\n",
              "      <td>0.0</td>\n",
              "      <td>0.0</td>\n",
              "      <td>0.0</td>\n",
              "      <td>14453.195078</td>\n",
              "    </tr>\n",
              "    <tr>\n",
              "      <th>17</th>\n",
              "      <td>2020-06-23</td>\n",
              "      <td>15428.156892</td>\n",
              "      <td>15561.100495</td>\n",
              "      <td>16144.364416</td>\n",
              "      <td>15235.654767</td>\n",
              "      <td>15626.710594</td>\n",
              "      <td>421.857278</td>\n",
              "      <td>421.857278</td>\n",
              "      <td>421.857278</td>\n",
              "      <td>421.857278</td>\n",
              "      <td>421.857278</td>\n",
              "      <td>421.857278</td>\n",
              "      <td>0.0</td>\n",
              "      <td>0.0</td>\n",
              "      <td>0.0</td>\n",
              "      <td>15850.014170</td>\n",
              "    </tr>\n",
              "    <tr>\n",
              "      <th>18</th>\n",
              "      <td>2020-06-24</td>\n",
              "      <td>16033.358960</td>\n",
              "      <td>16085.970636</td>\n",
              "      <td>16843.752366</td>\n",
              "      <td>15729.861711</td>\n",
              "      <td>16331.409964</td>\n",
              "      <td>424.799768</td>\n",
              "      <td>424.799768</td>\n",
              "      <td>424.799768</td>\n",
              "      <td>424.799768</td>\n",
              "      <td>424.799768</td>\n",
              "      <td>424.799768</td>\n",
              "      <td>0.0</td>\n",
              "      <td>0.0</td>\n",
              "      <td>0.0</td>\n",
              "      <td>16458.158728</td>\n",
              "    </tr>\n",
              "    <tr>\n",
              "      <th>19</th>\n",
              "      <td>2020-06-25</td>\n",
              "      <td>16638.561028</td>\n",
              "      <td>16348.478406</td>\n",
              "      <td>17282.441325</td>\n",
              "      <td>16195.936974</td>\n",
              "      <td>17059.597112</td>\n",
              "      <td>208.350124</td>\n",
              "      <td>208.350124</td>\n",
              "      <td>208.350124</td>\n",
              "      <td>208.350124</td>\n",
              "      <td>208.350124</td>\n",
              "      <td>208.350124</td>\n",
              "      <td>0.0</td>\n",
              "      <td>0.0</td>\n",
              "      <td>0.0</td>\n",
              "      <td>16846.911152</td>\n",
              "    </tr>\n",
              "    <tr>\n",
              "      <th>20</th>\n",
              "      <td>2020-06-26</td>\n",
              "      <td>17243.763097</td>\n",
              "      <td>16631.132287</td>\n",
              "      <td>17829.811182</td>\n",
              "      <td>16665.406600</td>\n",
              "      <td>17798.339308</td>\n",
              "      <td>-0.601239</td>\n",
              "      <td>-0.601239</td>\n",
              "      <td>-0.601239</td>\n",
              "      <td>-0.601239</td>\n",
              "      <td>-0.601239</td>\n",
              "      <td>-0.601239</td>\n",
              "      <td>0.0</td>\n",
              "      <td>0.0</td>\n",
              "      <td>0.0</td>\n",
              "      <td>17243.161858</td>\n",
              "    </tr>\n",
              "    <tr>\n",
              "      <th>21</th>\n",
              "      <td>2020-06-27</td>\n",
              "      <td>17848.965165</td>\n",
              "      <td>16794.731167</td>\n",
              "      <td>18259.873359</td>\n",
              "      <td>17120.586102</td>\n",
              "      <td>18559.140549</td>\n",
              "      <td>-327.316498</td>\n",
              "      <td>-327.316498</td>\n",
              "      <td>-327.316498</td>\n",
              "      <td>-327.316498</td>\n",
              "      <td>-327.316498</td>\n",
              "      <td>-327.316498</td>\n",
              "      <td>0.0</td>\n",
              "      <td>0.0</td>\n",
              "      <td>0.0</td>\n",
              "      <td>17521.648667</td>\n",
              "    </tr>\n",
              "    <tr>\n",
              "      <th>22</th>\n",
              "      <td>2020-06-28</td>\n",
              "      <td>18454.167234</td>\n",
              "      <td>17182.647781</td>\n",
              "      <td>19002.095407</td>\n",
              "      <td>17560.094794</td>\n",
              "      <td>19313.250388</td>\n",
              "      <td>-357.329688</td>\n",
              "      <td>-357.329688</td>\n",
              "      <td>-357.329688</td>\n",
              "      <td>-357.329688</td>\n",
              "      <td>-357.329688</td>\n",
              "      <td>-357.329688</td>\n",
              "      <td>0.0</td>\n",
              "      <td>0.0</td>\n",
              "      <td>0.0</td>\n",
              "      <td>18096.837546</td>\n",
              "    </tr>\n",
              "    <tr>\n",
              "      <th>23</th>\n",
              "      <td>2020-06-29</td>\n",
              "      <td>19059.369302</td>\n",
              "      <td>17610.362721</td>\n",
              "      <td>19711.402491</td>\n",
              "      <td>17999.395788</td>\n",
              "      <td>20105.937175</td>\n",
              "      <td>-369.759745</td>\n",
              "      <td>-369.759745</td>\n",
              "      <td>-369.759745</td>\n",
              "      <td>-369.759745</td>\n",
              "      <td>-369.759745</td>\n",
              "      <td>-369.759745</td>\n",
              "      <td>0.0</td>\n",
              "      <td>0.0</td>\n",
              "      <td>0.0</td>\n",
              "      <td>18689.609557</td>\n",
              "    </tr>\n",
              "    <tr>\n",
              "      <th>24</th>\n",
              "      <td>2020-06-30</td>\n",
              "      <td>19664.571370</td>\n",
              "      <td>18792.867695</td>\n",
              "      <td>21361.710046</td>\n",
              "      <td>18410.245839</td>\n",
              "      <td>20902.431239</td>\n",
              "      <td>421.857278</td>\n",
              "      <td>421.857278</td>\n",
              "      <td>421.857278</td>\n",
              "      <td>421.857278</td>\n",
              "      <td>421.857278</td>\n",
              "      <td>421.857278</td>\n",
              "      <td>0.0</td>\n",
              "      <td>0.0</td>\n",
              "      <td>0.0</td>\n",
              "      <td>20086.428648</td>\n",
              "    </tr>\n",
              "    <tr>\n",
              "      <th>25</th>\n",
              "      <td>2020-07-01</td>\n",
              "      <td>20269.773439</td>\n",
              "      <td>19236.136801</td>\n",
              "      <td>22112.230904</td>\n",
              "      <td>18790.323320</td>\n",
              "      <td>21705.780182</td>\n",
              "      <td>424.799768</td>\n",
              "      <td>424.799768</td>\n",
              "      <td>424.799768</td>\n",
              "      <td>424.799768</td>\n",
              "      <td>424.799768</td>\n",
              "      <td>424.799768</td>\n",
              "      <td>0.0</td>\n",
              "      <td>0.0</td>\n",
              "      <td>0.0</td>\n",
              "      <td>20694.573207</td>\n",
              "    </tr>\n",
              "    <tr>\n",
              "      <th>26</th>\n",
              "      <td>2020-07-02</td>\n",
              "      <td>20874.975507</td>\n",
              "      <td>19390.889640</td>\n",
              "      <td>22687.449410</td>\n",
              "      <td>19181.132177</td>\n",
              "      <td>22524.971135</td>\n",
              "      <td>208.350124</td>\n",
              "      <td>208.350124</td>\n",
              "      <td>208.350124</td>\n",
              "      <td>208.350124</td>\n",
              "      <td>208.350124</td>\n",
              "      <td>208.350124</td>\n",
              "      <td>0.0</td>\n",
              "      <td>0.0</td>\n",
              "      <td>0.0</td>\n",
              "      <td>21083.325631</td>\n",
              "    </tr>\n",
              "    <tr>\n",
              "      <th>27</th>\n",
              "      <td>2020-07-03</td>\n",
              "      <td>21480.177575</td>\n",
              "      <td>19593.696856</td>\n",
              "      <td>23331.166105</td>\n",
              "      <td>19570.240425</td>\n",
              "      <td>23330.170187</td>\n",
              "      <td>-0.601239</td>\n",
              "      <td>-0.601239</td>\n",
              "      <td>-0.601239</td>\n",
              "      <td>-0.601239</td>\n",
              "      <td>-0.601239</td>\n",
              "      <td>-0.601239</td>\n",
              "      <td>0.0</td>\n",
              "      <td>0.0</td>\n",
              "      <td>0.0</td>\n",
              "      <td>21479.576336</td>\n",
              "    </tr>\n",
              "    <tr>\n",
              "      <th>28</th>\n",
              "      <td>2020-07-04</td>\n",
              "      <td>22085.379644</td>\n",
              "      <td>19629.041860</td>\n",
              "      <td>23872.873051</td>\n",
              "      <td>19985.814907</td>\n",
              "      <td>24141.956090</td>\n",
              "      <td>-327.316498</td>\n",
              "      <td>-327.316498</td>\n",
              "      <td>-327.316498</td>\n",
              "      <td>-327.316498</td>\n",
              "      <td>-327.316498</td>\n",
              "      <td>-327.316498</td>\n",
              "      <td>0.0</td>\n",
              "      <td>0.0</td>\n",
              "      <td>0.0</td>\n",
              "      <td>21758.063146</td>\n",
              "    </tr>\n",
              "    <tr>\n",
              "      <th>29</th>\n",
              "      <td>2020-07-05</td>\n",
              "      <td>22690.581712</td>\n",
              "      <td>19925.038610</td>\n",
              "      <td>24630.313330</td>\n",
              "      <td>20263.793121</td>\n",
              "      <td>24969.356380</td>\n",
              "      <td>-357.329688</td>\n",
              "      <td>-357.329688</td>\n",
              "      <td>-357.329688</td>\n",
              "      <td>-357.329688</td>\n",
              "      <td>-357.329688</td>\n",
              "      <td>-357.329688</td>\n",
              "      <td>0.0</td>\n",
              "      <td>0.0</td>\n",
              "      <td>0.0</td>\n",
              "      <td>22333.252025</td>\n",
              "    </tr>\n",
              "  </tbody>\n",
              "</table>\n",
              "</div>"
            ],
            "text/plain": [
              "           ds         trend  ...  multiplicative_terms_upper          yhat\n",
              "10 2020-06-16  11191.742406  ...                         0.0  11613.599684\n",
              "11 2020-06-17  11796.944481  ...                         0.0  12221.744250\n",
              "12 2020-06-18  12402.146550  ...                         0.0  12610.496673\n",
              "13 2020-06-19  13007.348618  ...                         0.0  13006.747379\n",
              "14 2020-06-20  13612.550686  ...                         0.0  13285.234188\n",
              "15 2020-06-21  14217.752755  ...                         0.0  13860.423067\n",
              "16 2020-06-22  14822.954823  ...                         0.0  14453.195078\n",
              "17 2020-06-23  15428.156892  ...                         0.0  15850.014170\n",
              "18 2020-06-24  16033.358960  ...                         0.0  16458.158728\n",
              "19 2020-06-25  16638.561028  ...                         0.0  16846.911152\n",
              "20 2020-06-26  17243.763097  ...                         0.0  17243.161858\n",
              "21 2020-06-27  17848.965165  ...                         0.0  17521.648667\n",
              "22 2020-06-28  18454.167234  ...                         0.0  18096.837546\n",
              "23 2020-06-29  19059.369302  ...                         0.0  18689.609557\n",
              "24 2020-06-30  19664.571370  ...                         0.0  20086.428648\n",
              "25 2020-07-01  20269.773439  ...                         0.0  20694.573207\n",
              "26 2020-07-02  20874.975507  ...                         0.0  21083.325631\n",
              "27 2020-07-03  21480.177575  ...                         0.0  21479.576336\n",
              "28 2020-07-04  22085.379644  ...                         0.0  21758.063146\n",
              "29 2020-07-05  22690.581712  ...                         0.0  22333.252025\n",
              "\n",
              "[20 rows x 16 columns]"
            ]
          },
          "execution_count": 83,
          "metadata": {
            "tags": []
          },
          "output_type": "execute_result"
        }
      ],
      "source": [
        "cov71_forecast.tail(20)"
      ]
    },
    {
      "cell_type": "code",
      "execution_count": null,
      "metadata": {
        "colab": {},
        "colab_type": "code",
        "id": "jlmtez839iBB"
      },
      "outputs": [],
      "source": []
    }
  ],
  "metadata": {
    "colab": {
      "authorship_tag": "ABX9TyNfIQhagQfGcgKJRuDlWvGA",
      "collapsed_sections": [],
      "include_colab_link": true,
      "name": "FB_prophet_COVID-19",
      "provenance": []
    },
    "kernelspec": {
      "display_name": "Python 3",
      "name": "python3"
    },
    "language_info": {}
  },
  "nbformat": 4,
  "nbformat_minor": 0
}